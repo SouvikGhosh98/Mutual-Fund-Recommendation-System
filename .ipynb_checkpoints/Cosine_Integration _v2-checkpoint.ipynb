{
 "cells": [
  {
   "cell_type": "code",
   "execution_count": 1,
   "id": "8633c827",
   "metadata": {},
   "outputs": [],
   "source": [
    "import numpy as np\n",
    "import pandas as pd"
   ]
  },
  {
   "cell_type": "markdown",
   "id": "a2b25097",
   "metadata": {},
   "source": [
    "## Data retribval and mapping of category"
   ]
  },
  {
   "cell_type": "code",
   "execution_count": 2,
   "id": "6321ec7b",
   "metadata": {
    "scrolled": true
   },
   "outputs": [
    {
     "data": {
      "text/html": [
       "<div>\n",
       "<style scoped>\n",
       "    .dataframe tbody tr th:only-of-type {\n",
       "        vertical-align: middle;\n",
       "    }\n",
       "\n",
       "    .dataframe tbody tr th {\n",
       "        vertical-align: top;\n",
       "    }\n",
       "\n",
       "    .dataframe thead th {\n",
       "        text-align: right;\n",
       "    }\n",
       "</style>\n",
       "<table border=\"1\" class=\"dataframe\">\n",
       "  <thead>\n",
       "    <tr style=\"text-align: right;\">\n",
       "      <th></th>\n",
       "      <th>scheme_name</th>\n",
       "      <th>Scheme Codes</th>\n",
       "      <th>expense_ratio</th>\n",
       "      <th>risk_level</th>\n",
       "      <th>returns_1yr</th>\n",
       "      <th>returns_3yr</th>\n",
       "      <th>returns_5yr</th>\n",
       "      <th>Sub_Category</th>\n",
       "    </tr>\n",
       "  </thead>\n",
       "  <tbody>\n",
       "    <tr>\n",
       "      <th>0</th>\n",
       "      <td>Aditya Birla SL Active Debt Multi-Mgr FoF-Dir ...</td>\n",
       "      <td>100033</td>\n",
       "      <td>0.27</td>\n",
       "      <td>0.2</td>\n",
       "      <td>4.0</td>\n",
       "      <td>6.5</td>\n",
       "      <td>6.9</td>\n",
       "      <td>FoFs Domestic</td>\n",
       "    </tr>\n",
       "    <tr>\n",
       "      <th>1</th>\n",
       "      <td>Aditya Birla SL Arbitrage Fund</td>\n",
       "      <td>100034</td>\n",
       "      <td>0.36</td>\n",
       "      <td>0.0</td>\n",
       "      <td>5.6</td>\n",
       "      <td>4.8</td>\n",
       "      <td>5.5</td>\n",
       "      <td>Arbitrage Mutual Funds</td>\n",
       "    </tr>\n",
       "    <tr>\n",
       "      <th>2</th>\n",
       "      <td>Aditya Birla SL Asset Allocator FoF-Dir Growth</td>\n",
       "      <td>100037</td>\n",
       "      <td>0.53</td>\n",
       "      <td>0.4</td>\n",
       "      <td>2.0</td>\n",
       "      <td>18.9</td>\n",
       "      <td>9.7</td>\n",
       "      <td>FoFs Domestic</td>\n",
       "    </tr>\n",
       "    <tr>\n",
       "      <th>3</th>\n",
       "      <td>Aditya Birla SL Balanced Advantage Fund</td>\n",
       "      <td>100038</td>\n",
       "      <td>0.61</td>\n",
       "      <td>0.5</td>\n",
       "      <td>4.5</td>\n",
       "      <td>18.6</td>\n",
       "      <td>9.7</td>\n",
       "      <td>Dynamic Asset Allocation or Balanced Advantage</td>\n",
       "    </tr>\n",
       "    <tr>\n",
       "      <th>4</th>\n",
       "      <td>Aditya Birla SL Banking&amp;Financial Services-Dir...</td>\n",
       "      <td>100041</td>\n",
       "      <td>1.17</td>\n",
       "      <td>0.5</td>\n",
       "      <td>5.3</td>\n",
       "      <td>24.6</td>\n",
       "      <td>9.2</td>\n",
       "      <td>Sectoral / Thematic Mutual Funds</td>\n",
       "    </tr>\n",
       "  </tbody>\n",
       "</table>\n",
       "</div>"
      ],
      "text/plain": [
       "                                         scheme_name  Scheme Codes  \\\n",
       "0  Aditya Birla SL Active Debt Multi-Mgr FoF-Dir ...        100033   \n",
       "1                     Aditya Birla SL Arbitrage Fund        100034   \n",
       "2     Aditya Birla SL Asset Allocator FoF-Dir Growth        100037   \n",
       "3            Aditya Birla SL Balanced Advantage Fund        100038   \n",
       "4  Aditya Birla SL Banking&Financial Services-Dir...        100041   \n",
       "\n",
       "   expense_ratio  risk_level  returns_1yr  returns_3yr  returns_5yr  \\\n",
       "0           0.27         0.2          4.0          6.5          6.9   \n",
       "1           0.36         0.0          5.6          4.8          5.5   \n",
       "2           0.53         0.4          2.0         18.9          9.7   \n",
       "3           0.61         0.5          4.5         18.6          9.7   \n",
       "4           1.17         0.5          5.3         24.6          9.2   \n",
       "\n",
       "                                     Sub_Category  \n",
       "0                                   FoFs Domestic  \n",
       "1                          Arbitrage Mutual Funds  \n",
       "2                                   FoFs Domestic  \n",
       "3  Dynamic Asset Allocation or Balanced Advantage  \n",
       "4                Sectoral / Thematic Mutual Funds  "
      ]
     },
     "execution_count": 2,
     "metadata": {},
     "output_type": "execute_result"
    }
   ],
   "source": [
    "data = pd.read_csv('./data_with_sub_categories.csv')\n",
    "data.head()"
   ]
  },
  {
   "cell_type": "code",
   "execution_count": 3,
   "id": "d967e457",
   "metadata": {},
   "outputs": [
    {
     "name": "stdout",
     "output_type": "stream",
     "text": [
      "Scheme Code for index 0: {0: 100033, 1: 100034, 2: 100037, 3: 100038, 4: 100041, 5: 100042, 6: 100043, 7: 100044, 8: 100046, 9: 100047, 10: 100048, 11: 100049, 12: 100051, 13: 100052, 14: 100053, 15: 100054, 16: 100055, 17: 100056, 18: 100057, 19: 100058, 20: 100059, 21: 100060, 22: 100061, 23: 100062, 24: 100063, 25: 100064, 26: 100065, 27: 100066, 28: 100067, 29: 100956, 30: 100970, 31: 100971, 32: 100972, 33: 101313, 34: 101314, 35: 101315, 36: 101316, 37: 101317, 38: 101318, 39: 101591, 40: 112210, 41: 112211, 42: 112212, 43: 112213, 44: 112214, 45: 112215, 46: 112216, 47: 112217, 48: 112277, 49: 112278, 50: 112322, 51: 112323, 52: 112354, 53: 112355, 54: 112369, 55: 112679, 56: 112680, 57: 112681, 58: 112682, 59: 112683, 60: 112684, 61: 112712, 62: 118484, 63: 109255, 64: 109264, 65: 109269, 66: 110606, 67: 110607, 68: 110608, 69: 111585, 70: 111589, 71: 111590, 72: 111709, 73: 111710, 74: 113036, 75: 119333, 76: 119334, 77: 119340, 78: 119354, 79: 119399, 80: 119400, 81: 119415, 82: 119416, 83: 133488, 84: 133517, 85: 133518, 86: 133520, 87: 139344, 88: 140463, 89: 142245, 90: 142246, 91: 100589, 92: 100590, 93: 100593, 94: 100596, 95: 100597, 96: 100600, 97: 100601, 98: 101361, 99: 101362, 100: 101363, 101: 101364, 102: 101365, 103: 101587, 104: 101588, 105: 101589, 106: 101922, 107: 100077, 108: 100078, 109: 100079, 110: 100080, 111: 100081, 112: 100082, 113: 100084, 114: 100085, 115: 100086, 116: 100087, 117: 100088, 118: 100089, 119: 100090, 120: 100940, 121: 100941, 122: 100943, 123: 101303, 124: 101304, 125: 101305, 126: 101306, 127: 101635, 128: 101636, 129: 101742, 130: 101743, 131: 101744, 132: 109934, 133: 109935, 134: 109936, 135: 109937, 136: 109938, 137: 109939, 138: 109940, 139: 109941, 140: 109942, 141: 109944, 142: 109945, 143: 109946, 144: 109949, 145: 109950, 146: 100470, 147: 100471, 148: 100472, 149: 100473, 150: 100481, 151: 100482, 152: 100483, 153: 100484, 154: 100485, 155: 100486, 156: 100487, 157: 100489, 158: 100490, 159: 100491, 160: 100493, 161: 100494, 162: 100495, 163: 100498, 164: 100499, 165: 100503, 166: 100504, 167: 100119, 168: 100120, 169: 100121, 170: 100122, 171: 100123, 172: 100124, 173: 100282, 174: 100283, 175: 100284, 176: 100285, 177: 100868, 178: 100869, 179: 100870, 180: 100871, 181: 100872, 182: 100873, 183: 100874, 184: 100875, 185: 100876, 186: 100877, 187: 100878, 188: 100881, 189: 100899, 190: 100900, 191: 100997, 192: 100998, 193: 101081, 194: 101082, 195: 101083, 196: 101084, 197: 101281, 198: 101282, 199: 101430, 200: 101431, 201: 101480, 202: 101481, 203: 101482, 204: 101593, 205: 101594, 206: 101597, 207: 101598, 208: 101599, 209: 101600, 210: 101685, 211: 101686, 212: 101687, 213: 101688, 214: 101691, 215: 101692, 216: 101693, 217: 101694, 218: 101696, 219: 101697, 220: 101698, 221: 101699, 222: 101700, 223: 101701, 224: 101702, 225: 102065, 226: 102066, 227: 102251, 228: 102252, 229: 102257, 230: 102258, 231: 102259, 232: 102260, 233: 102261, 234: 102262, 235: 100348, 236: 100349, 237: 100350, 238: 100351, 239: 100352, 240: 100353, 241: 100354, 242: 100355, 243: 100356, 244: 100357, 245: 100358, 246: 100359, 247: 100360, 248: 100361, 249: 100362, 250: 100363, 251: 100364, 252: 100365, 253: 100366, 254: 100367, 255: 100368, 256: 100369, 257: 100370, 258: 100371, 259: 100372, 260: 100952, 261: 100953, 262: 100954, 263: 100955, 264: 101098, 265: 101127, 266: 101143, 267: 101144, 268: 101165, 269: 101221, 270: 101228, 271: 101229, 272: 101230, 273: 101231, 274: 101349, 275: 101350, 276: 101351, 277: 101617, 278: 101618, 279: 101619, 280: 113062, 281: 113063, 282: 113096, 283: 113102, 284: 113103, 285: 113104, 286: 113249, 287: 113250, 288: 113251, 289: 113252, 290: 113253, 291: 113254, 292: 114630, 293: 114633, 294: 122612, 295: 131579, 296: 125337, 297: 115991, 298: 115992, 299: 115993, 300: 115994, 301: 115995, 302: 116424, 303: 104483, 304: 104484, 305: 104485, 306: 104486, 307: 104487, 308: 104488, 309: 104489, 310: 104490, 311: 104491, 312: 104492, 313: 104635, 314: 104636, 315: 104722, 316: 104723, 317: 104724, 318: 104725, 319: 104726, 320: 104727, 321: 104728, 322: 104729, 323: 105024, 324: 103780, 325: 101805, 326: 100220, 327: 120491, 328: 120488, 329: 100218, 330: 100233, 331: 143603, 332: 100222, 333: 107288, 334: 100254, 335: 100261, 336: 100262, 337: 100263, 338: 100264, 339: 100265, 340: 100278, 341: 100279, 342: 100280, 343: 100281, 344: 100286, 345: 100289, 346: 100290, 347: 100291, 348: 100292, 349: 100298, 350: 100299, 351: 100300, 352: 100301, 353: 100828, 354: 100829, 355: 100830, 356: 100831, 357: 100832, 358: 100833, 359: 100834, 360: 100835, 361: 100836, 362: 101372, 363: 118069, 364: 100312, 365: 100313, 366: 100314, 367: 100315, 368: 100316, 369: 100317, 370: 100318, 371: 100319, 372: 100321, 373: 100323, 374: 100325, 375: 100332, 376: 100864, 377: 100865, 378: 101184, 379: 101185, 380: 139534, 381: 139535, 382: 139536, 383: 139537, 384: 139538, 385: 139539, 386: 107578, 387: 107579, 388: 107589, 389: 107646, 390: 107647, 391: 107648, 392: 107649, 393: 107656, 394: 107657, 395: 117141, 396: 122388, 397: 122389, 398: 122390, 399: 124233, 400: 124303, 401: 124305, 402: 112408, 403: 112645, 404: 112647, 405: 112648, 406: 113142, 407: 100379, 408: 100383, 409: 100385, 410: 100386, 411: 100387, 412: 100837, 413: 100838, 414: 100851, 415: 100853, 416: 100856, 417: 100858, 418: 100859, 419: 101665, 420: 101667, 421: 101862, 422: 101864, 423: 102172, 424: 102173, 425: 102174, 426: 102431, 427: 102432, 428: 102433, 429: 102673, 430: 102675, 431: 102676, 432: 102677, 433: 102751, 434: 102752, 435: 102753, 436: 102848, 437: 102849, 438: 102851, 439: 103048, 440: 103050, 441: 103051, 442: 103052, 443: 122640, 444: 116484, 445: 116485, 446: 120084, 447: 120086, 448: 125305, 449: 125306, 450: 133836, 451: 133837, 452: 133838, 453: 133839, 454: 135598, 455: 135599, 456: 135600, 457: 135601, 458: 138254, 459: 100171, 460: 100172, 461: 100173, 462: 100174, 463: 100175, 464: 100176, 465: 100177, 466: 100630, 467: 100631, 468: 101065, 469: 101066, 470: 103490, 471: 103491, 472: 103734, 473: 103735, 474: 103736, 475: 107693, 476: 108479, 477: 100638, 478: 100639, 479: 100640, 480: 100641, 481: 100643, 482: 100644, 483: 100645, 484: 100717, 485: 100915, 486: 100917, 487: 100927, 488: 100928, 489: 100929, 490: 100934, 491: 100968, 492: 100999, 493: 101001, 494: 101002, 495: 101003, 496: 101160, 497: 101169, 498: 101206, 499: 101295, 500: 101530, 501: 101551, 502: 101929, 503: 101932, 504: 101933, 505: 101934, 506: 101935, 507: 101950, 508: 101951, 509: 101952, 510: 102030, 511: 102053, 512: 102054, 513: 102055, 514: 102056, 515: 102058, 516: 102061, 517: 102201, 518: 102202, 519: 125711, 520: 100602, 521: 100603, 522: 100604, 523: 100605, 524: 100606, 525: 100607, 526: 100608, 527: 100609, 528: 100610, 529: 100611, 530: 100612, 531: 100613, 532: 100614, 533: 100617, 534: 100618, 535: 100619, 536: 100620, 537: 100621, 538: 100622, 539: 100623, 540: 100780, 541: 100781, 542: 100782, 543: 100783, 544: 100784, 545: 100785, 546: 100786, 547: 100787, 548: 100788, 549: 100414, 550: 100415, 551: 100416, 552: 100417, 553: 100418, 554: 100474, 555: 100475, 556: 101000, 557: 101042, 558: 101049, 559: 101186, 560: 101222, 561: 101224, 562: 101419, 563: 101471, 564: 101489, 565: 101490, 566: 101491, 567: 101547, 568: 101548, 569: 101605, 570: 101606, 571: 101609, 572: 101659, 573: 101672, 574: 100476, 575: 100477, 576: 100480, 577: 101094, 578: 101095, 579: 101113, 580: 101114, 581: 101209, 582: 100496, 583: 100497, 584: 115270, 585: 115290, 586: 115398, 587: 115399, 588: 115400, 589: 115401, 590: 115402, 591: 100381, 592: 100382, 593: 100646, 594: 100648, 595: 100650, 596: 100651, 597: 100656, 598: 100657, 599: 100663, 600: 100664, 601: 100668, 602: 100669, 603: 100678, 604: 100682, 605: 100684, 606: 100685, 607: 100711, 608: 100712, 609: 100723, 610: 100724, 611: 100725, 612: 100739, 613: 100740, 614: 100741, 615: 100742, 616: 100748, 617: 100749, 618: 100750, 619: 100751, 620: 100800, 621: 100801, 622: 100802, 623: 100803, 624: 145963}\n"
     ]
    }
   ],
   "source": [
    "# Create a dictionary to map indices to scheme_codes\n",
    "index_to_scheme_code = dict(zip(data.index, data['Scheme Codes']))\n",
    "\n",
    "# Example: Get the scheme_code corresponding to index 0\n",
    "print(\"Scheme Code for index 0:\", index_to_scheme_code)"
   ]
  },
  {
   "cell_type": "code",
   "execution_count": 4,
   "id": "54d74b0b",
   "metadata": {},
   "outputs": [
    {
     "data": {
      "text/plain": [
       "36"
      ]
     },
     "execution_count": 4,
     "metadata": {},
     "output_type": "execute_result"
    }
   ],
   "source": [
    "unique_values = data['Sub_Category'].unique()\n",
    "len(unique_values)"
   ]
  },
  {
   "cell_type": "code",
   "execution_count": 5,
   "id": "aca6fe02",
   "metadata": {},
   "outputs": [
    {
     "data": {
      "text/plain": [
       "{'FoFs Domestic': 1,\n",
       " 'Arbitrage Mutual Funds': 2,\n",
       " 'Dynamic Asset Allocation or Balanced Advantage': 3,\n",
       " 'Sectoral / Thematic Mutual Funds': 4,\n",
       " 'Banking and PSU Mutual Funds': 5,\n",
       " 'Corporate Bond Mutual Funds': 6,\n",
       " 'Credit Risk Funds': 7,\n",
       " 'Dividend Yield Funds': 8,\n",
       " 'Dynamic Bond': 9,\n",
       " 'Large & Mid Cap Funds': 10,\n",
       " 'Aggressive Hybrid Mutual Funds': 11,\n",
       " 'Equity Savings Mutual Funds': 12,\n",
       " 'Flexi Cap Funds': 13,\n",
       " 'Floater Mutual Funds': 14,\n",
       " 'Focused Funds': 15,\n",
       " 'Large Cap Mutual Funds': 16,\n",
       " 'Gilt Mutual Funds': 17,\n",
       " 'Medium to Long Duration Funds': 18,\n",
       " 'Liquid Mutual Funds': 19,\n",
       " 'Low Duration Funds': 20,\n",
       " 'Medium Duration Funds': 21,\n",
       " 'Mid Cap Mutual Funds': 22,\n",
       " 'Money Market Funds': 23,\n",
       " 'Index Funds': 24,\n",
       " 'Value Funds': 25,\n",
       " 'Conservative Hybrid Mutual Funds': 26,\n",
       " 'Ultra Short Duration Funds': 27,\n",
       " 'Short Duration Funds': 28,\n",
       " 'Small Cap Mutual Funds': 29,\n",
       " 'ELSS Mutual Funds': 30,\n",
       " 'Childrens Funds': 31,\n",
       " 'Multi Asset Allocation Mutual Funds': 32,\n",
       " 'Multi Cap Funds': 33,\n",
       " 'Overnight Mutual Funds': 34,\n",
       " 'Retirement Funds': 35,\n",
       " 'Contra Funds': 36}"
      ]
     },
     "execution_count": 5,
     "metadata": {},
     "output_type": "execute_result"
    }
   ],
   "source": [
    "category_mapping = {unique_values[i]: i+1 for i in range(len(unique_values))}\n",
    "category_mapping"
   ]
  },
  {
   "cell_type": "markdown",
   "id": "ff9d322a",
   "metadata": {},
   "source": [
    "## User Input "
   ]
  },
  {
   "cell_type": "code",
   "execution_count": 6,
   "id": "2983ac10",
   "metadata": {},
   "outputs": [],
   "source": [
    "def calculate_expense_ratio(investment_budget):\n",
    "    # Define expense ratio range for the Indian market (0.01 to 0.05)\n",
    "    min_expense_ratio = 0.01\n",
    "    max_expense_ratio = 0.05\n",
    "    \n",
    "    # Normalize investment budget between 0 and 1\n",
    "    normalized_budget = investment_budget / 10000  # Assuming maximum investment budget is 500000 INR\n",
    "    \n",
    "    # Calculate normalized expense ratio within the range\n",
    "    normalized_expense_ratio = min_expense_ratio + (max_expense_ratio - min_expense_ratio) * normalized_budget\n",
    "    \n",
    "    # Apply bias to expense ratio\n",
    "    biased_expense_ratio = normalized_expense_ratio\n",
    "    \n",
    "    # If expense ratio is greater than 0.5, set it to 0.5\n",
    "    if biased_expense_ratio > 0.5:\n",
    "        biased_expense_ratio = 0.5\n",
    "    \n",
    "    return biased_expense_ratio"
   ]
  },
  {
   "cell_type": "code",
   "execution_count": 7,
   "id": "0e336b86",
   "metadata": {},
   "outputs": [],
   "source": [
    "# Works only on yearly income\n",
    "def calculate_risk(age, income):\n",
    "    if age <= 30:\n",
    "        if income >= 1000000:\n",
    "            return 6\n",
    "        elif income >= 700000:\n",
    "            return 5\n",
    "        elif income >= 500000:\n",
    "            return 4\n",
    "        else:\n",
    "            return 3\n",
    "    elif age <= 40:\n",
    "        if income >= 1200000:\n",
    "            return 5\n",
    "        elif income >= 800000:\n",
    "            return 4\n",
    "        elif income >= 600000:\n",
    "            return 3\n",
    "        else:\n",
    "            return 2\n",
    "    elif age <= 50:\n",
    "        if income >= 1500000:\n",
    "            return 4\n",
    "        elif income >= 1000000:\n",
    "            return 3\n",
    "        elif income >= 800000:\n",
    "            return 2\n",
    "        else:\n",
    "            return 1\n",
    "    else:\n",
    "        if income >= 2000000:\n",
    "            return 3\n",
    "        elif income >= 1500000:\n",
    "            return 2\n",
    "        elif income >= 1000000:\n",
    "            return 1\n",
    "        else:\n",
    "            return 0\n",
    "\n"
   ]
  },
  {
   "cell_type": "code",
   "execution_count": 8,
   "id": "544e54d8",
   "metadata": {},
   "outputs": [],
   "source": [
    "def normalize_risk(risk):\n",
    "    # Normalize risk value between 0 and 1\n",
    "    normalized_risk = risk / 6.0  # Dividing by the maximum possible value\n",
    "    \n",
    "    # Apply bias to expense ratio\n",
    "    biased_normalized_risk = normalized_risk\n",
    "    \n",
    "    # If expense ratio is greater than 0.5, set it to 0.5\n",
    "    if biased_normalized_risk > 0.5:\n",
    "        biased_normalized_risk = 0.5\n",
    "    \n",
    "    return biased_normalized_risk\n",
    "    "
   ]
  },
  {
   "cell_type": "code",
   "execution_count": null,
   "id": "e182af7a",
   "metadata": {},
   "outputs": [
    {
     "name": "stdin",
     "output_type": "stream",
     "text": [
      "Enter your age:  25\n",
      "Enter your income:  1000000\n"
     ]
    }
   ],
   "source": [
    "def get_user_inputs():\n",
    "    age = int(input(\"Enter your age: \"))\n",
    "    income = float(input(\"Enter your income: \"))\n",
    "    investment_budget = float(input(\"Enter your investment budget: \"))\n",
    "    \n",
    "    subcategories = []\n",
    "    while True:\n",
    "        subcategory = input(\"Enter a subcategory (or type 'done' to finish): \")\n",
    "        if subcategory.lower() == 'done':\n",
    "            break\n",
    "        subcategories.append(float(subcategory))  # Convert input to float and append to list\n",
    "    \n",
    "    investment_term = input(\"Enter the investment term (short term, midterm, or high term): \")\n",
    "    investment_term_map = {'short term': 1, 'midterm': 3, 'high term': 5}\n",
    "    investment_term_numeric = investment_term_map.get(investment_term.lower(), None)\n",
    "    \n",
    "    return age, income, investment_budget, subcategories, investment_term_numeric\n",
    "\n",
    "# Example usage:\n",
    "age, income, investment_budget, subcategories, investment_term = get_user_inputs()\n",
    "print(\"Age:\", age)\n",
    "print(\"Income:\", income)\n",
    "print(\"Investment Budget:\", investment_budget)\n",
    "print(\"Subcategories:\", subcategories)\n",
    "print(\"Investment Term:\", investment_term)\n",
    "\n",
    "\n"
   ]
  },
  {
   "cell_type": "code",
   "execution_count": null,
   "id": "f0056d21",
   "metadata": {},
   "outputs": [],
   "source": [
    "def calculate_user_vector(age, income, investment_budget):\n",
    "    expense_ratio = calculate_expense_ratio(investment_budget)\n",
    "    risk = calculate_risk(age, income)\n",
    "    normalised_risk = normalize_risk(risk)\n",
    "    return [expense_ratio, normalised_risk]"
   ]
  },
  {
   "cell_type": "code",
   "execution_count": null,
   "id": "6b6922b5",
   "metadata": {},
   "outputs": [],
   "source": [
    "vector = calculate_user_vector(age, income, investment_budget)\n",
    "print(\"Vector:\", vector)"
   ]
  },
  {
   "cell_type": "markdown",
   "id": "86d6023d",
   "metadata": {},
   "source": [
    "## Filtering "
   ]
  },
  {
   "cell_type": "code",
   "execution_count": null,
   "id": "c9866e28",
   "metadata": {},
   "outputs": [],
   "source": [
    "# Assuming you have already created the category_mapping dictionary\n",
    "# Reverse the dictionary to map integers back to category names\n",
    "reverse_category_mapping = {v: k for k, v in category_mapping.items()}\n",
    "\n",
    "# Assuming you have already created the reverse_category_mapping dictionary\n",
    "# Assuming you have an array of values called values\n",
    "\n",
    "values = subcategories # Example array of values\n",
    "\n",
    "# Create an empty list to store the category names\n",
    "category_names = []\n",
    "\n",
    "# Loop through the array of values and get the corresponding category names\n",
    "for value in values:\n",
    "    category_name = reverse_category_mapping.get(value, \"Unknown\")\n",
    "    category_names.append(category_name)\n",
    "\n",
    "print(category_names)"
   ]
  },
  {
   "cell_type": "markdown",
   "id": "1da09050",
   "metadata": {},
   "source": [
    "This is the new dataset after filtering "
   ]
  },
  {
   "cell_type": "code",
   "execution_count": null,
   "id": "285eae58",
   "metadata": {},
   "outputs": [],
   "source": [
    "filtered_df = data[data['Sub_Category'].isin(category_names)]\n",
    "filtered_df"
   ]
  },
  {
   "cell_type": "code",
   "execution_count": null,
   "id": "95e1b9a1",
   "metadata": {},
   "outputs": [],
   "source": [
    "columns_to_drop = ['scheme_name', 'Scheme Codes', 'returns_3yr', 'returns_5yr']\n",
    "first_year_returns_data = filtered_df.drop(columns=columns_to_drop)\n",
    "first_year_returns_data"
   ]
  },
  {
   "cell_type": "code",
   "execution_count": null,
   "id": "1d370136",
   "metadata": {},
   "outputs": [],
   "source": [
    "columns_to_drop = ['scheme_name', 'Scheme Codes', 'returns_1yr', 'returns_5yr']\n",
    "third_year_returns_data = filtered_df.drop(columns=columns_to_drop)\n",
    "third_year_returns_data"
   ]
  },
  {
   "cell_type": "code",
   "execution_count": null,
   "id": "577923a1",
   "metadata": {},
   "outputs": [],
   "source": [
    "columns_to_drop = ['scheme_name', 'Scheme Codes', 'returns_1yr', 'returns_3yr']\n",
    "fifth_year_returns_data = filtered_df.drop(columns=columns_to_drop)\n",
    "fifth_year_returns_data"
   ]
  },
  {
   "cell_type": "code",
   "execution_count": null,
   "id": "935b86ee",
   "metadata": {},
   "outputs": [],
   "source": [
    "if investment_term == 1:\n",
    "    # Copy data1 to a new DataFrame\n",
    "    returns_data = first_year_returns_data.copy()\n",
    "    user_data = {\n",
    "    'expense_ratio': [vector[0]],\n",
    "    'risk_level': [vector[1]],\n",
    "    'returns_1yr': [0.75]\n",
    "}\n",
    "elif investment_term == 3:\n",
    "    returns_data = third_year_returns_data.copy()\n",
    "    user_data = {\n",
    "    'expense_ratio': [vector[0]],\n",
    "    'risk_level': [vector[1]],\n",
    "    'returns_3yr': [0.75]\n",
    "}\n",
    "elif investment_term == 5:\n",
    "    returns_data = fifth_year_returns_data.copy()\n",
    "    user_data = {\n",
    "    'expense_ratio': [vector[0]],\n",
    "    'risk_level': [vector[1]],\n",
    "    'returns_5yr': [0.75]\n",
    "}\n",
    "else:\n",
    "    print(\"Invalid value. Please enter 1 or 3 or 5.\")\n"
   ]
  },
  {
   "cell_type": "code",
   "execution_count": null,
   "id": "2d1c8c38",
   "metadata": {},
   "outputs": [],
   "source": [
    "returns_data"
   ]
  },
  {
   "cell_type": "code",
   "execution_count": null,
   "id": "a77c0dfe",
   "metadata": {},
   "outputs": [],
   "source": [
    "columns_to_drop = ['Sub_Category']\n",
    "returns_data =  returns_data.drop(columns=columns_to_drop)\n",
    "returns_data"
   ]
  },
  {
   "cell_type": "code",
   "execution_count": null,
   "id": "d2a57acb",
   "metadata": {},
   "outputs": [],
   "source": [
    "# Assuming df is your DataFrame\n",
    "index_to_row_number = {index: row_number for row_number, index in enumerate(returns_data.index)}\n",
    "\n",
    "# Example usage:\n",
    "print(index_to_row_number)"
   ]
  },
  {
   "cell_type": "markdown",
   "id": "7d256b43",
   "metadata": {},
   "source": [
    "### normalisation"
   ]
  },
  {
   "cell_type": "code",
   "execution_count": null,
   "id": "e3172406",
   "metadata": {},
   "outputs": [],
   "source": [
    "from sklearn.preprocessing import MinMaxScaler\n",
    "\n",
    "# Initialize MinMaxScaler\n",
    "scaler = MinMaxScaler()\n",
    "\n",
    "# Fit the scaler to the data and transform the data\n",
    "returns_data_normalized = scaler.fit_transform(returns_data)\n",
    "\n",
    "# Convert the scaled data back to a DataFrame\n",
    "returns_data_normalized = pd.DataFrame(returns_data_normalized, columns=returns_data.columns)\n",
    "first_year=returns_data_normalized.copy()"
   ]
  },
  {
   "cell_type": "code",
   "execution_count": null,
   "id": "573a41c4",
   "metadata": {},
   "outputs": [],
   "source": [
    "returns_data_normalized"
   ]
  },
  {
   "cell_type": "code",
   "execution_count": null,
   "id": "cc086ca0",
   "metadata": {},
   "outputs": [],
   "source": [
    "user_df = pd.DataFrame(user_data)\n",
    "\n",
    "# Append the user input data to the original DataFrame\n",
    "returns_data_with_user = pd.concat([returns_data_normalized, user_df], ignore_index=True)\n",
    "\n",
    "# Now your data DataFrame contains the user input data as a new row\n",
    "print(\"Updated DataFrame:\")\n",
    "returns_data_with_user"
   ]
  },
  {
   "cell_type": "markdown",
   "id": "342ba6c1",
   "metadata": {},
   "source": [
    "## Cosine Similarity "
   ]
  },
  {
   "cell_type": "code",
   "execution_count": null,
   "id": "32db0e3e",
   "metadata": {},
   "outputs": [],
   "source": [
    "from sklearn.preprocessing import MinMaxScaler\n",
    "from sklearn.metrics.pairwise import cosine_similarity"
   ]
  },
  {
   "cell_type": "code",
   "execution_count": null,
   "id": "7502f18e",
   "metadata": {
    "scrolled": true
   },
   "outputs": [],
   "source": [
    "# Calculate cosine similarity\n",
    "returns_data_similarity = cosine_similarity(returns_data_with_user)\n",
    "\n",
    "# Convert cosine similarity array to DataFrame for readability\n",
    "returns_data_similarity = pd.DataFrame(returns_data_similarity, columns=returns_data_with_user.index, index=returns_data_with_user.index)\n",
    "\n",
    "print(\"Cosine Similarity Matrix:\")\n",
    "returns_data_similarity"
   ]
  },
  {
   "cell_type": "code",
   "execution_count": null,
   "id": "d851d15e",
   "metadata": {},
   "outputs": [],
   "source": [
    "user_similarity=returns_data_similarity[len(returns_data_similarity)-1]"
   ]
  },
  {
   "cell_type": "code",
   "execution_count": null,
   "id": "acada2ae",
   "metadata": {},
   "outputs": [],
   "source": [
    "user_similarity"
   ]
  },
  {
   "cell_type": "code",
   "execution_count": null,
   "id": "c0723179",
   "metadata": {},
   "outputs": [],
   "source": [
    "import numpy as np\n",
    "\n",
    "# Exclude the last element of the array\n",
    "array_without_last = user_similarity[:-1]\n",
    "\n",
    "# Get the indices of the top 10 largest values\n",
    "top_10_indices = np.argpartition(-array_without_last, kth=10)[:10]\n",
    "\n",
    "# Print the indices of the top 10 largest values\n",
    "print(\"Indices of the top 10 largest values:\")\n",
    "print(top_10_indices)"
   ]
  },
  {
   "cell_type": "code",
   "execution_count": null,
   "id": "48e8d6dd",
   "metadata": {},
   "outputs": [],
   "source": [
    "# Assuming you have already created the category_mapping dictionary\n",
    "# Reverse the dictionary to map integers back to category names\n",
    "reverse_category_mapping = {v: k for k, v in index_to_row_number.items()}\n",
    "\n",
    "# Assuming you have already created the reverse_category_mapping dictionary\n",
    "# Assuming you have an array of values called values\n",
    "\n",
    "# Create an empty list to store the category names\n",
    "scheme_index = []\n",
    "\n",
    "# Loop through the array of values and get the corresponding category names\n",
    "for value in top_10_indices:\n",
    "    index = reverse_category_mapping.get(value, \"Unknown\")\n",
    "    scheme_index.append(index)\n",
    "\n",
    "print(scheme_index)"
   ]
  },
  {
   "cell_type": "code",
   "execution_count": null,
   "id": "1cbb13bd",
   "metadata": {},
   "outputs": [],
   "source": [
    "scheme_codes = []\n",
    "for key in scheme_index:\n",
    "    code = index_to_scheme_code.get(key)\n",
    "    scheme_codes.append(code)\n",
    "\n",
    "print(scheme_codes)"
   ]
  },
  {
   "cell_type": "markdown",
   "id": "6133137d",
   "metadata": {},
   "source": [
    "## Prediction"
   ]
  },
  {
   "cell_type": "code",
   "execution_count": null,
   "id": "e8680197",
   "metadata": {},
   "outputs": [],
   "source": [
    "import requests\n",
    "import pandas as pd\n",
    "from prophet import Prophet"
   ]
  },
  {
   "cell_type": "code",
   "execution_count": null,
   "id": "abc464bf",
   "metadata": {},
   "outputs": [],
   "source": [
    "# Function create a dataframe by fetching the current data.import requests\n",
    "def fetch_scheme_nav_data(scheme_code):\n",
    "    api_url = f\"https://api.mfapi.in/mf/{scheme_code}\"\n",
    "    response = requests.get(api_url)\n",
    "    \n",
    "    if response.status_code == 200:\n",
    "        json_data = response.json()\n",
    "        nav_data = json_data.get('data', [])\n",
    "        \n",
    "        if nav_data:\n",
    "            nav_df = pd.DataFrame(nav_data)\n",
    "            nav_df['date'] = pd.to_datetime(nav_df['date'], format='%d-%m-%Y')\n",
    "            nav_df['nav'] = pd.to_numeric(nav_df['nav'], errors='coerce')\n",
    "            nav_df['date'] = nav_df['date'].dt.strftime('%d-%m-%Y')\n",
    "            nav_df = nav_df[::-1]\n",
    "            return nav_df\n",
    "        else:\n",
    "            print(\"No NAV data available for the scheme.\")\n",
    "            return None\n",
    "    else:\n",
    "        print(\"Failed to fetch JSON data:\", response.status_code)\n",
    "        return None"
   ]
  },
  {
   "cell_type": "code",
   "execution_count": null,
   "id": "14b8f071",
   "metadata": {},
   "outputs": [],
   "source": [
    "# Function to predcit and return the predcited dataframe\n",
    "def predict_nav(nav_df):\n",
    "    \n",
    "    # Check if the dataframe is small\n",
    "    if len(nav_df) < 100:\n",
    "        #print(\"Input dataframe is too small. Returning null dataframe.\")\n",
    "        return pd.DataFrame(columns=['ds', 'yhat'])\n",
    "    # Step 1: Preprocess the data\n",
    "    # Ensure 'date' column is in datetime format\n",
    "    nav_df['ds'] = pd.to_datetime(nav_df['date'], format='%d-%m-%Y')\n",
    "    # Rename 'nav' column to 'y' as required by Prophet\n",
    "    nav_df.rename(columns={'nav': 'y'}, inplace=True)\n",
    "\n",
    "    # Step 2: Train a forecasting model\n",
    "    model = Prophet()\n",
    "    model.fit(nav_df)\n",
    "\n",
    "    # Step 3: Make predictions for the next 5 years\n",
    "    future = model.make_future_dataframe(periods=365*5, freq='D')\n",
    "    forecast = model.predict(future)\n",
    "    \n",
    "    # Filter out dates beyond the range of the original data\n",
    "    future_dates = forecast[forecast['ds'] > nav_df['ds'].max()]['ds']\n",
    "\n",
    "    # Create predicted_values DataFrame with only future dates and predicted NAV values\n",
    "    predicted_values = forecast[forecast['ds'].isin(future_dates)][['ds', 'yhat']].copy()\n",
    "\n",
    "    return predicted_values"
   ]
  },
  {
   "cell_type": "code",
   "execution_count": null,
   "id": "a39f7555",
   "metadata": {},
   "outputs": [],
   "source": [
    "# Function which will return the scores based on the predicted value\n",
    "def calculate_returns(predicted_nav_df):\n",
    "    \n",
    "    \n",
    "    if predicted_nav_df.empty:  # Check if the dataframe is empty\n",
    "        return {}  # Return an empty dataframe if it's empty\n",
    "    # Step 1: Sort the dataframe by date\n",
    "    \n",
    "    predicted_nav_df_sorted = predicted_nav_df.sort_values(by='ds')\n",
    "\n",
    "    # Step 2: Calculate 1-year, 3-year, and 5-year returns\n",
    "    def calculate_returns(nav_values, dates, years):\n",
    "        returns = {}\n",
    "        for year in years:\n",
    "            # Calculate the NAV at the beginning and end of the period\n",
    "            end_nav = nav_values.iloc[-1]\n",
    "            start_date = max(dates) - pd.DateOffset(years=year)\n",
    "            start_nav = nav_values[dates >= start_date].iloc[0]\n",
    "                        # If start_nav is zero, replace it with 1\n",
    "            if start_nav == 0:\n",
    "                start_nav = 1\n",
    "            # Calculate the return using the CAGR formula\n",
    "            cagr = (end_nav / start_nav) ** (1/year) - 1\n",
    "            returns[f\"{year}-Year Return\"] = cagr * 100  # Convert to percentage\n",
    "        return returns\n",
    "\n",
    "    # Extract NAV values and dates\n",
    "    nav_values = predicted_nav_df_sorted['yhat']\n",
    "    dates = predicted_nav_df_sorted['ds']\n",
    "\n",
    "    # Calculate returns\n",
    "    years = [1, 3, 5]\n",
    "    returns = calculate_returns(nav_values, dates, years)\n",
    "\n",
    "    return returns"
   ]
  },
  {
   "cell_type": "code",
   "execution_count": null,
   "id": "da9a3297",
   "metadata": {},
   "outputs": [],
   "source": [
    "# Function to create a dataframe with funds and scores\n",
    "def calculate_scores_for_scheme_codes(scheme_codes, year):\n",
    "    # Create an empty list to store the results\n",
    "    results = []\n",
    "\n",
    "    # Iterate over the list of scheme codes\n",
    "    for scheme_code in scheme_codes:\n",
    "        # Fetch NAV data for the scheme\n",
    "        nav_df = fetch_scheme_nav_data(scheme_code)\n",
    "\n",
    "        if nav_df is not None:\n",
    "            # Predict NAV values\n",
    "            predicted_nav_df = predict_nav(nav_df)\n",
    "\n",
    "            # Calculate returns\n",
    "            returns = calculate_returns(predicted_nav_df)\n",
    "            #print(type(returns_dict))\n",
    "            if not returns:\n",
    "                results.append({\n",
    "                    'Scheme Code': scheme_code,\n",
    "                    '1-Year Return': -1,\n",
    "                    '3-Year Return': -1,\n",
    "                    '5-Year Return': -1\n",
    "                })\n",
    "            else:\n",
    "                # Append scheme code and returns to the results list as a dictionary\n",
    "                results.append({\n",
    "                    'Scheme Code': scheme_code,\n",
    "                    '1-Year Return': returns['1-Year Return'],\n",
    "                    '3-Year Return': returns['3-Year Return'],\n",
    "                    '5-Year Return': returns['5-Year Return']\n",
    "                })\n",
    "        else:\n",
    "            print(f\"Failed to fetch NAV data for scheme code {scheme_code}. Skipping...\")\n",
    "\n",
    "    # Create DataFrame from the list of dictionaries\n",
    "    results_df = pd.DataFrame(results)\n",
    "\n",
    "    returns = {}\n",
    "    for index, row in results_df.iterrows():\n",
    "        scheme_code = row['Scheme Code']\n",
    "        if year == 1:\n",
    "            returns[scheme_code] = row['1-Year Return']\n",
    "        elif year == 3:\n",
    "            returns[scheme_code] = row['3-Year Return']\n",
    "        elif year == 5:\n",
    "            returns[scheme_code] = row['5-Year Return']\n",
    "        else:\n",
    "            print(\"Invalid year! Please provide 1, 3, or 5 for year.\")\n",
    "            return None\n",
    "    return returns\n"
   ]
  },
  {
   "cell_type": "raw",
   "id": "3a64e4b8",
   "metadata": {},
   "source": [
    "investment_term  scheme_codes"
   ]
  },
  {
   "cell_type": "code",
   "execution_count": null,
   "id": "2ea84c5f",
   "metadata": {},
   "outputs": [],
   "source": [
    "scores_df = calculate_scores_for_scheme_codes(scheme_codes,investment_term)\n",
    "scores_df"
   ]
  },
  {
   "cell_type": "code",
   "execution_count": null,
   "id": "8c3b47a5",
   "metadata": {},
   "outputs": [],
   "source": [
    "def print_top_5_scores(scores_df):\n",
    "    # Sort the dictionary by values in descending order\n",
    "    sorted_scores = sorted(scores_df.items(), key=lambda x: x[1], reverse=True)\n",
    "    \n",
    "    # Print the top 5 key-value pairs\n",
    "    print(\"Top 5 Key-Value Pairs:\")\n",
    "    for i, (key, value) in enumerate(sorted_scores[:5]):\n",
    "        print(f\"{i+1}. Key: {key}, Value: {value}\")"
   ]
  },
  {
   "cell_type": "code",
   "execution_count": null,
   "id": "7394eebc",
   "metadata": {},
   "outputs": [],
   "source": [
    "print_top_5_scores(scores_df)"
   ]
  }
 ],
 "metadata": {
  "kernelspec": {
   "display_name": "Python 3 (ipykernel)",
   "language": "python",
   "name": "python3"
  },
  "language_info": {
   "codemirror_mode": {
    "name": "ipython",
    "version": 3
   },
   "file_extension": ".py",
   "mimetype": "text/x-python",
   "name": "python",
   "nbconvert_exporter": "python",
   "pygments_lexer": "ipython3",
   "version": "3.11.0rc2"
  }
 },
 "nbformat": 4,
 "nbformat_minor": 5
}
