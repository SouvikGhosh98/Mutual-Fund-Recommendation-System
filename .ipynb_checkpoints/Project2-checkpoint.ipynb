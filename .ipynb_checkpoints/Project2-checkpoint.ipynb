{
 "cells": [
  {
   "cell_type": "code",
   "execution_count": 2,
   "id": "6092adfd-7797-41ee-aff7-8f218a6bfa54",
   "metadata": {},
   "outputs": [],
   "source": [
    "import numpy as np\n",
    "import pandas as pd"
   ]
  },
  {
   "cell_type": "code",
   "execution_count": 22,
   "id": "40c8dbef-9ab4-4365-9e8c-0e0e62b1cdb4",
   "metadata": {},
   "outputs": [],
   "source": [
    "data = pd.read_csv('./data_with_sub_categories.csv')"
   ]
  },
  {
   "cell_type": "code",
   "execution_count": 23,
   "id": "636f6e6d-cdde-4bc9-a51a-b218554cc0cf",
   "metadata": {},
   "outputs": [
    {
     "data": {
      "text/html": [
       "<div>\n",
       "<style scoped>\n",
       "    .dataframe tbody tr th:only-of-type {\n",
       "        vertical-align: middle;\n",
       "    }\n",
       "\n",
       "    .dataframe tbody tr th {\n",
       "        vertical-align: top;\n",
       "    }\n",
       "\n",
       "    .dataframe thead th {\n",
       "        text-align: right;\n",
       "    }\n",
       "</style>\n",
       "<table border=\"1\" class=\"dataframe\">\n",
       "  <thead>\n",
       "    <tr style=\"text-align: right;\">\n",
       "      <th></th>\n",
       "      <th>scheme_name</th>\n",
       "      <th>Scheme Codes</th>\n",
       "      <th>expense_ratio</th>\n",
       "      <th>risk_level</th>\n",
       "      <th>returns_1yr</th>\n",
       "      <th>returns_3yr</th>\n",
       "      <th>returns_5yr</th>\n",
       "      <th>Sub_Category</th>\n",
       "    </tr>\n",
       "  </thead>\n",
       "  <tbody>\n",
       "    <tr>\n",
       "      <th>0</th>\n",
       "      <td>Aditya Birla SL Active Debt Multi-Mgr FoF-Dir ...</td>\n",
       "      <td>100033</td>\n",
       "      <td>0.27</td>\n",
       "      <td>3</td>\n",
       "      <td>4.0</td>\n",
       "      <td>6.5</td>\n",
       "      <td>6.9</td>\n",
       "      <td>FoFs Domestic</td>\n",
       "    </tr>\n",
       "    <tr>\n",
       "      <th>1</th>\n",
       "      <td>Aditya Birla SL Arbitrage Fund</td>\n",
       "      <td>100034</td>\n",
       "      <td>0.36</td>\n",
       "      <td>1</td>\n",
       "      <td>5.6</td>\n",
       "      <td>4.8</td>\n",
       "      <td>5.5</td>\n",
       "      <td>Arbitrage Mutual Funds</td>\n",
       "    </tr>\n",
       "    <tr>\n",
       "      <th>2</th>\n",
       "      <td>Aditya Birla SL Asset Allocator FoF-Dir Growth</td>\n",
       "      <td>100037</td>\n",
       "      <td>0.53</td>\n",
       "      <td>5</td>\n",
       "      <td>2.0</td>\n",
       "      <td>18.9</td>\n",
       "      <td>9.7</td>\n",
       "      <td>FoFs Domestic</td>\n",
       "    </tr>\n",
       "    <tr>\n",
       "      <th>3</th>\n",
       "      <td>Aditya Birla SL Balanced Advantage Fund</td>\n",
       "      <td>100038</td>\n",
       "      <td>0.61</td>\n",
       "      <td>6</td>\n",
       "      <td>4.5</td>\n",
       "      <td>18.6</td>\n",
       "      <td>9.7</td>\n",
       "      <td>Dynamic Asset Allocation or Balanced Advantage</td>\n",
       "    </tr>\n",
       "    <tr>\n",
       "      <th>4</th>\n",
       "      <td>Aditya Birla SL Banking&amp;Financial Services-Dir...</td>\n",
       "      <td>100041</td>\n",
       "      <td>1.17</td>\n",
       "      <td>6</td>\n",
       "      <td>5.3</td>\n",
       "      <td>24.6</td>\n",
       "      <td>9.2</td>\n",
       "      <td>Sectoral / Thematic Mutual Funds</td>\n",
       "    </tr>\n",
       "  </tbody>\n",
       "</table>\n",
       "</div>"
      ],
      "text/plain": [
       "                                         scheme_name  Scheme Codes  \\\n",
       "0  Aditya Birla SL Active Debt Multi-Mgr FoF-Dir ...        100033   \n",
       "1                     Aditya Birla SL Arbitrage Fund        100034   \n",
       "2     Aditya Birla SL Asset Allocator FoF-Dir Growth        100037   \n",
       "3            Aditya Birla SL Balanced Advantage Fund        100038   \n",
       "4  Aditya Birla SL Banking&Financial Services-Dir...        100041   \n",
       "\n",
       "   expense_ratio  risk_level  returns_1yr  returns_3yr  returns_5yr  \\\n",
       "0           0.27           3          4.0          6.5          6.9   \n",
       "1           0.36           1          5.6          4.8          5.5   \n",
       "2           0.53           5          2.0         18.9          9.7   \n",
       "3           0.61           6          4.5         18.6          9.7   \n",
       "4           1.17           6          5.3         24.6          9.2   \n",
       "\n",
       "                                     Sub_Category  \n",
       "0                                   FoFs Domestic  \n",
       "1                          Arbitrage Mutual Funds  \n",
       "2                                   FoFs Domestic  \n",
       "3  Dynamic Asset Allocation or Balanced Advantage  \n",
       "4                Sectoral / Thematic Mutual Funds  "
      ]
     },
     "execution_count": 23,
     "metadata": {},
     "output_type": "execute_result"
    }
   ],
   "source": [
    "data.head()"
   ]
  },
  {
   "cell_type": "code",
   "execution_count": 24,
   "id": "cbd788bc-7752-41c3-9ae6-8723b395c959",
   "metadata": {},
   "outputs": [
    {
     "name": "stdout",
     "output_type": "stream",
     "text": [
      "<class 'pandas.core.frame.DataFrame'>\n",
      "RangeIndex: 625 entries, 0 to 624\n",
      "Data columns (total 8 columns):\n",
      " #   Column         Non-Null Count  Dtype  \n",
      "---  ------         --------------  -----  \n",
      " 0   scheme_name    625 non-null    object \n",
      " 1   Scheme Codes   625 non-null    int64  \n",
      " 2   expense_ratio  625 non-null    float64\n",
      " 3   risk_level     625 non-null    int64  \n",
      " 4   returns_1yr    625 non-null    float64\n",
      " 5   returns_3yr    625 non-null    float64\n",
      " 6   returns_5yr    625 non-null    float64\n",
      " 7   Sub_Category   625 non-null    object \n",
      "dtypes: float64(4), int64(2), object(2)\n",
      "memory usage: 39.2+ KB\n"
     ]
    }
   ],
   "source": [
    "data.info()"
   ]
  },
  {
   "cell_type": "code",
   "execution_count": 25,
   "id": "61142cc8-5f49-48f9-a410-f1d07c62062f",
   "metadata": {},
   "outputs": [],
   "source": [
    "unique_values = data['Sub_Category'].unique()"
   ]
  },
  {
   "cell_type": "code",
   "execution_count": 26,
   "id": "7cd93a6b-042b-4746-b7e8-f887c3909a36",
   "metadata": {},
   "outputs": [
    {
     "name": "stdout",
     "output_type": "stream",
     "text": [
      "['FoFs Domestic' 'Arbitrage Mutual Funds'\n",
      " 'Dynamic Asset Allocation or Balanced Advantage'\n",
      " 'Sectoral / Thematic Mutual Funds' 'Banking and PSU Mutual Funds'\n",
      " 'Corporate Bond Mutual Funds' 'Credit Risk Funds' 'Dividend Yield Funds'\n",
      " 'Dynamic Bond' 'Large & Mid Cap Funds' 'Aggressive Hybrid Mutual Funds'\n",
      " 'Equity Savings Mutual Funds' 'Flexi Cap Funds' 'Floater Mutual Funds'\n",
      " 'Focused Funds' 'Large Cap Mutual Funds' 'Gilt Mutual Funds'\n",
      " 'Medium to Long Duration Funds' 'Liquid Mutual Funds'\n",
      " 'Low Duration Funds' 'Medium Duration Funds' 'Mid Cap Mutual Funds'\n",
      " 'Money Market Funds' 'Index Funds' 'Value Funds'\n",
      " 'Conservative Hybrid Mutual Funds' 'Ultra Short Duration Funds'\n",
      " 'Short Duration Funds' 'Small Cap Mutual Funds' 'ELSS Mutual Funds'\n",
      " 'Childrens Funds' 'Multi Asset Allocation Mutual Funds' 'Multi Cap Funds'\n",
      " 'Overnight Mutual Funds' 'Retirement Funds' 'Contra Funds']\n"
     ]
    }
   ],
   "source": [
    "print(unique_values)"
   ]
  },
  {
   "cell_type": "code",
   "execution_count": 30,
   "id": "182ddf9a-f42a-40ce-bec7-ce89041bad9c",
   "metadata": {},
   "outputs": [
    {
     "data": {
      "text/plain": [
       "36"
      ]
     },
     "execution_count": 30,
     "metadata": {},
     "output_type": "execute_result"
    }
   ],
   "source": [
    "len(unique_values)"
   ]
  },
  {
   "cell_type": "code",
   "execution_count": 31,
   "id": "9601cbc9-3298-4de1-9ea6-2898ee37a45c",
   "metadata": {},
   "outputs": [
    {
     "name": "stdout",
     "output_type": "stream",
     "text": [
      "{'FoFs Domestic': 1, 'Arbitrage Mutual Funds': 2, 'Dynamic Asset Allocation or Balanced Advantage': 3, 'Sectoral / Thematic Mutual Funds': 4, 'Banking and PSU Mutual Funds': 5, 'Corporate Bond Mutual Funds': 6, 'Credit Risk Funds': 7, 'Dividend Yield Funds': 8, 'Dynamic Bond': 9, 'Large & Mid Cap Funds': 10, 'Aggressive Hybrid Mutual Funds': 11, 'Equity Savings Mutual Funds': 12, 'Flexi Cap Funds': 13, 'Floater Mutual Funds': 14, 'Focused Funds': 15, 'Large Cap Mutual Funds': 16, 'Gilt Mutual Funds': 17, 'Medium to Long Duration Funds': 18, 'Liquid Mutual Funds': 19, 'Low Duration Funds': 20, 'Medium Duration Funds': 21, 'Mid Cap Mutual Funds': 22, 'Money Market Funds': 23, 'Index Funds': 24, 'Value Funds': 25, 'Conservative Hybrid Mutual Funds': 26, 'Ultra Short Duration Funds': 27, 'Short Duration Funds': 28, 'Small Cap Mutual Funds': 29, 'ELSS Mutual Funds': 30, 'Childrens Funds': 31, 'Multi Asset Allocation Mutual Funds': 32, 'Multi Cap Funds': 33, 'Overnight Mutual Funds': 34, 'Retirement Funds': 35, 'Contra Funds': 36}\n"
     ]
    }
   ],
   "source": [
    "category_mapping = {unique_values[i]: i+1 for i in range(len(unique_values))}\n",
    "\n",
    "print(category_mapping)"
   ]
  },
  {
   "cell_type": "code",
   "execution_count": 36,
   "id": "d83433eb-c9e2-401a-aaab-36acac1f7f66",
   "metadata": {},
   "outputs": [
    {
     "name": "stdout",
     "output_type": "stream",
     "text": [
      "['Multi Asset Allocation Mutual Funds', 'Focused Funds', 'Low Duration Funds']\n"
     ]
    }
   ],
   "source": [
    "# Assuming you have already created the category_mapping dictionary\n",
    "# Reverse the dictionary to map integers back to category names\n",
    "reverse_category_mapping = {v: k for k, v in category_mapping.items()}\n",
    "\n",
    "# Assuming you have already created the reverse_category_mapping dictionary\n",
    "# Assuming you have an array of values called values\n",
    "\n",
    "values = [32, 15, 20]  # Example array of values\n",
    "\n",
    "# Create an empty list to store the category names\n",
    "category_names = []\n",
    "\n",
    "# Loop through the array of values and get the corresponding category names\n",
    "for value in values:\n",
    "    category_name = reverse_category_mapping.get(value, \"Unknown\")\n",
    "    category_names.append(category_name)\n",
    "\n",
    "print(category_names)"
   ]
  },
  {
   "cell_type": "code",
   "execution_count": 40,
   "id": "9870c1d2-7c1a-488c-ad4c-bcb6568b79b8",
   "metadata": {},
   "outputs": [
    {
     "name": "stdout",
     "output_type": "stream",
     "text": [
      "                               scheme_name  Scheme Codes  expense_ratio  \\\n",
      "16     Aditya Birla SL Focused Equity Fund        100055           1.06   \n",
      "28       Aditya Birla SL Low Duration Fund        100067           0.39   \n",
      "50                    AXIS Focused 25 Fund        112322           0.74   \n",
      "60            AXIS Treasury Advantage Fund        112684           0.29   \n",
      "61              AXIS Triple Advantage Fund        112712           0.72   \n",
      "82         Baroda BNP Paribas Focused Fund        119416           0.67   \n",
      "86    Baroda BNP Paribas Low Duration Fund        133520           0.39   \n",
      "104             Canara Robeco Savings Fund        101588           0.31   \n",
      "116                         DSP Focus Fund        100087           1.08   \n",
      "120                  DSP Low Duration Fund        100940           0.30   \n",
      "156     Franklin India Focused Equity Fund        100487           1.16   \n",
      "179                   HDFC Focused 30 Fund        100870           0.54   \n",
      "191                 HDFC Low Duration Fund        100997           0.43   \n",
      "195                  HDFC Multi-Asset Fund        101083           0.88   \n",
      "223                 HSBC Low Duration Fund        101701           0.25   \n",
      "253          ICICI Pru Focused Equity Fund        100366           0.59   \n",
      "264             ICICI Pru Multi-Asset Fund        101098           1.15   \n",
      "273                 ICICI Pru Savings Fund        101231           0.40   \n",
      "283            IDBI Focused 30 Equity Fund        113102           1.61   \n",
      "295               IIFL Focused Equity Fund        131579           0.90   \n",
      "322  Invesco India Treasury Advantage Fund        104729           0.32   \n",
      "328                        JM Focused Fund        120488           1.58   \n",
      "331                   JM Low Duration Fund        143603           0.34   \n",
      "356                Kotak Low Duration Fund        100831           0.43   \n",
      "378                    LIC MF Savings Fund        101184           0.27   \n",
      "383    Mahindra Manulife Low Duration Fund        139537           0.37   \n",
      "392               Mirae Asset Savings Fund        107649           0.37   \n",
      "398             Motilal Oswal Focused Fund        122390           1.00   \n",
      "402                       Navi 3 In 1 Fund        112408           0.34   \n",
      "418       Nippon India Focused Equity Fund        100859           1.20   \n",
      "428         Nippon India Low Duration Fund        102433           0.37   \n",
      "455           PGIM India Low Duration Fund        135599           0.35   \n",
      "462                     Quant Focused Fund        100174           0.57   \n",
      "467                 Quant Multi Asset Fund        100631           0.56   \n",
      "489                SBI Focused Equity Fund        100929           0.69   \n",
      "506           SBI Magnum Low Duration Fund        101935           0.40   \n",
      "510        SBI Multi Asset Allocation Fund        102030           0.88   \n",
      "531                  Sundaram Focused Fund        100613           1.20   \n",
      "535             Sundaram Low Duration Fund        100619           0.33   \n",
      "572           Tata Treasury Advantage Fund        101659           0.30   \n",
      "613                   UTI-Multi Asset Fund        100740           1.04   \n",
      "620            UTI-Treasury Advantage Fund        100800           0.33   \n",
      "\n",
      "     risk_level  returns_1yr  returns_3yr  returns_5yr  \\\n",
      "16            6         -0.7         24.0         10.7   \n",
      "28            3          5.7          6.5          7.0   \n",
      "50            6        -14.7         14.8          8.9   \n",
      "60            2          5.3          5.9          6.6   \n",
      "61            6         -5.1         18.1         10.4   \n",
      "82            6          0.5         23.1          9.9   \n",
      "86            3          5.0          6.0          6.5   \n",
      "104           2          5.0          5.2          5.9   \n",
      "116           6         -1.7         20.4          8.9   \n",
      "120           2          5.1          5.5          6.3   \n",
      "156           6          5.1         30.9         12.9   \n",
      "179           6         16.0         35.8         11.9   \n",
      "191           2          5.4          6.2          6.7   \n",
      "195           6          6.9         23.0         10.9   \n",
      "223           2          5.2          5.6          5.8   \n",
      "253           6          6.1         31.2         13.4   \n",
      "264           6         11.3         31.3         14.2   \n",
      "273           2          5.7          6.2          6.7   \n",
      "283           6          0.1         25.2         10.2   \n",
      "295           6          4.7         29.2         18.1   \n",
      "322           2          4.9          5.6          6.4   \n",
      "328           6          3.1         19.4          8.6   \n",
      "331           2          5.1         11.5          5.3   \n",
      "356           3          5.4          6.2          6.9   \n",
      "378           2          5.0          5.9          5.6   \n",
      "383           3          5.2          5.5          6.4   \n",
      "392           2          5.2          5.6          5.9   \n",
      "398           6          2.6         20.4         10.6   \n",
      "402           6          0.2         32.6         12.4   \n",
      "418           6          3.2         33.0         11.9   \n",
      "428           2          5.3          6.2          6.5   \n",
      "455           2          5.5          4.3          2.0   \n",
      "462           6          5.2         33.7         13.1   \n",
      "467           6         10.6         42.6         20.5   \n",
      "489           6         -4.9         22.0         12.2   \n",
      "506           3          5.2          5.6          6.4   \n",
      "510           6          5.9         16.1          9.6   \n",
      "531           6         -1.8         24.5         13.1   \n",
      "535           2          5.6          4.9          1.8   \n",
      "572           2          5.0          5.6          5.2   \n",
      "613           6          4.9         16.5          7.5   \n",
      "620           2          5.2          7.3          4.8   \n",
      "\n",
      "                            Sub_Category  \n",
      "16                         Focused Funds  \n",
      "28                    Low Duration Funds  \n",
      "50                         Focused Funds  \n",
      "60                    Low Duration Funds  \n",
      "61   Multi Asset Allocation Mutual Funds  \n",
      "82                         Focused Funds  \n",
      "86                    Low Duration Funds  \n",
      "104                   Low Duration Funds  \n",
      "116                        Focused Funds  \n",
      "120                   Low Duration Funds  \n",
      "156                        Focused Funds  \n",
      "179                        Focused Funds  \n",
      "191                   Low Duration Funds  \n",
      "195  Multi Asset Allocation Mutual Funds  \n",
      "223                   Low Duration Funds  \n",
      "253                        Focused Funds  \n",
      "264  Multi Asset Allocation Mutual Funds  \n",
      "273                   Low Duration Funds  \n",
      "283                        Focused Funds  \n",
      "295                        Focused Funds  \n",
      "322                   Low Duration Funds  \n",
      "328                        Focused Funds  \n",
      "331                   Low Duration Funds  \n",
      "356                   Low Duration Funds  \n",
      "378                   Low Duration Funds  \n",
      "383                   Low Duration Funds  \n",
      "392                   Low Duration Funds  \n",
      "398                        Focused Funds  \n",
      "402  Multi Asset Allocation Mutual Funds  \n",
      "418                        Focused Funds  \n",
      "428                   Low Duration Funds  \n",
      "455                   Low Duration Funds  \n",
      "462                        Focused Funds  \n",
      "467  Multi Asset Allocation Mutual Funds  \n",
      "489                        Focused Funds  \n",
      "506                   Low Duration Funds  \n",
      "510  Multi Asset Allocation Mutual Funds  \n",
      "531                        Focused Funds  \n",
      "535                   Low Duration Funds  \n",
      "572                   Low Duration Funds  \n",
      "613  Multi Asset Allocation Mutual Funds  \n",
      "620                   Low Duration Funds  \n"
     ]
    }
   ],
   "source": [
    "filtered_df = data[data['Sub_Category'].isin(category_names)]\n",
    "\n",
    "print(filtered_df)"
   ]
  },
  {
   "cell_type": "code",
   "execution_count": null,
   "id": "5adc3729-7d8f-4a75-9301-ac6d1f4893e8",
   "metadata": {},
   "outputs": [],
   "source": []
  }
 ],
 "metadata": {
  "kernelspec": {
   "display_name": "Python 3 (ipykernel)",
   "language": "python",
   "name": "python3"
  },
  "language_info": {
   "codemirror_mode": {
    "name": "ipython",
    "version": 3
   },
   "file_extension": ".py",
   "mimetype": "text/x-python",
   "name": "python",
   "nbconvert_exporter": "python",
   "pygments_lexer": "ipython3",
   "version": "3.11.0rc2"
  }
 },
 "nbformat": 4,
 "nbformat_minor": 5
}
