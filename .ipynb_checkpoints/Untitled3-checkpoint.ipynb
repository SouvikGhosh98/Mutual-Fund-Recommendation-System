{
 "cells": [
  {
   "cell_type": "code",
   "execution_count": 1,
   "id": "9d798f10-0cc8-49bc-b72d-f8d8c3435bf3",
   "metadata": {},
   "outputs": [],
   "source": [
    "import numpy as np\n",
    "import pandas as pd"
   ]
  },
  {
   "cell_type": "code",
   "execution_count": 2,
   "id": "92232a34-b021-4cdb-b96e-a6c63f573765",
   "metadata": {},
   "outputs": [],
   "source": [
    "data = pd.read_csv('./data.csv')"
   ]
  },
  {
   "cell_type": "code",
   "execution_count": 3,
   "id": "cc83c7c6-a5bc-41e6-ae49-ecc0e48ea086",
   "metadata": {},
   "outputs": [
    {
     "data": {
      "text/html": [
       "<div>\n",
       "<style scoped>\n",
       "    .dataframe tbody tr th:only-of-type {\n",
       "        vertical-align: middle;\n",
       "    }\n",
       "\n",
       "    .dataframe tbody tr th {\n",
       "        vertical-align: top;\n",
       "    }\n",
       "\n",
       "    .dataframe thead th {\n",
       "        text-align: right;\n",
       "    }\n",
       "</style>\n",
       "<table border=\"1\" class=\"dataframe\">\n",
       "  <thead>\n",
       "    <tr style=\"text-align: right;\">\n",
       "      <th></th>\n",
       "      <th>scheme_name</th>\n",
       "      <th>Scheme Codes</th>\n",
       "      <th>expense_ratio</th>\n",
       "      <th>risk_level</th>\n",
       "      <th>returns_1yr</th>\n",
       "      <th>returns_3yr</th>\n",
       "      <th>returns_5yr</th>\n",
       "    </tr>\n",
       "  </thead>\n",
       "  <tbody>\n",
       "    <tr>\n",
       "      <th>0</th>\n",
       "      <td>Aditya Birla SL Active Debt Multi-Mgr FoF-Dir ...</td>\n",
       "      <td>100033</td>\n",
       "      <td>0.27</td>\n",
       "      <td>3</td>\n",
       "      <td>4.0</td>\n",
       "      <td>6.5</td>\n",
       "      <td>6.9</td>\n",
       "    </tr>\n",
       "    <tr>\n",
       "      <th>1</th>\n",
       "      <td>Aditya Birla SL Arbitrage Fund</td>\n",
       "      <td>100034</td>\n",
       "      <td>0.36</td>\n",
       "      <td>1</td>\n",
       "      <td>5.6</td>\n",
       "      <td>4.8</td>\n",
       "      <td>5.5</td>\n",
       "    </tr>\n",
       "    <tr>\n",
       "      <th>2</th>\n",
       "      <td>Aditya Birla SL Asset Allocator FoF-Dir Growth</td>\n",
       "      <td>100037</td>\n",
       "      <td>0.53</td>\n",
       "      <td>5</td>\n",
       "      <td>2.0</td>\n",
       "      <td>18.9</td>\n",
       "      <td>9.7</td>\n",
       "    </tr>\n",
       "    <tr>\n",
       "      <th>3</th>\n",
       "      <td>Aditya Birla SL Balanced Advantage Fund</td>\n",
       "      <td>100038</td>\n",
       "      <td>0.61</td>\n",
       "      <td>6</td>\n",
       "      <td>4.5</td>\n",
       "      <td>18.6</td>\n",
       "      <td>9.7</td>\n",
       "    </tr>\n",
       "    <tr>\n",
       "      <th>4</th>\n",
       "      <td>Aditya Birla SL Banking&amp;Financial Services-Dir...</td>\n",
       "      <td>100041</td>\n",
       "      <td>1.17</td>\n",
       "      <td>6</td>\n",
       "      <td>5.3</td>\n",
       "      <td>24.6</td>\n",
       "      <td>9.2</td>\n",
       "    </tr>\n",
       "  </tbody>\n",
       "</table>\n",
       "</div>"
      ],
      "text/plain": [
       "                                         scheme_name  Scheme Codes  \\\n",
       "0  Aditya Birla SL Active Debt Multi-Mgr FoF-Dir ...        100033   \n",
       "1                     Aditya Birla SL Arbitrage Fund        100034   \n",
       "2     Aditya Birla SL Asset Allocator FoF-Dir Growth        100037   \n",
       "3            Aditya Birla SL Balanced Advantage Fund        100038   \n",
       "4  Aditya Birla SL Banking&Financial Services-Dir...        100041   \n",
       "\n",
       "   expense_ratio  risk_level  returns_1yr  returns_3yr  returns_5yr  \n",
       "0           0.27           3          4.0          6.5          6.9  \n",
       "1           0.36           1          5.6          4.8          5.5  \n",
       "2           0.53           5          2.0         18.9          9.7  \n",
       "3           0.61           6          4.5         18.6          9.7  \n",
       "4           1.17           6          5.3         24.6          9.2  "
      ]
     },
     "execution_count": 3,
     "metadata": {},
     "output_type": "execute_result"
    }
   ],
   "source": [
    "data.head()"
   ]
  },
  {
   "cell_type": "code",
   "execution_count": 4,
   "id": "77d42b8c-23ef-4b9b-8394-58b2a5aebddd",
   "metadata": {},
   "outputs": [
    {
     "name": "stdout",
     "output_type": "stream",
     "text": [
      "Scheme Code for index 0: {0: 100033, 1: 100034, 2: 100037, 3: 100038, 4: 100041, 5: 100042, 6: 100043, 7: 100044, 8: 100046, 9: 100047, 10: 100048, 11: 100049, 12: 100051, 13: 100052, 14: 100053, 15: 100054, 16: 100055, 17: 100056, 18: 100057, 19: 100058, 20: 100059, 21: 100060, 22: 100061, 23: 100062, 24: 100063, 25: 100064, 26: 100065, 27: 100066, 28: 100067, 29: 100956, 30: 100970, 31: 100971, 32: 100972, 33: 101313, 34: 101314, 35: 101315, 36: 101316, 37: 101317, 38: 101318, 39: 101591, 40: 112210, 41: 112211, 42: 112212, 43: 112213, 44: 112214, 45: 112215, 46: 112216, 47: 112217, 48: 112277, 49: 112278, 50: 112322, 51: 112323, 52: 112354, 53: 112355, 54: 112369, 55: 112679, 56: 112680, 57: 112681, 58: 112682, 59: 112683, 60: 112684, 61: 112712, 62: 118484, 63: 109255, 64: 109264, 65: 109269, 66: 110606, 67: 110607, 68: 110608, 69: 111585, 70: 111589, 71: 111590, 72: 111709, 73: 111710, 74: 113036, 75: 119333, 76: 119334, 77: 119340, 78: 119354, 79: 119399, 80: 119400, 81: 119415, 82: 119416, 83: 133488, 84: 133517, 85: 133518, 86: 133520, 87: 139344, 88: 140463, 89: 142245, 90: 142246, 91: 100589, 92: 100590, 93: 100593, 94: 100596, 95: 100597, 96: 100600, 97: 100601, 98: 101361, 99: 101362, 100: 101363, 101: 101364, 102: 101365, 103: 101587, 104: 101588, 105: 101589, 106: 101922, 107: 100077, 108: 100078, 109: 100079, 110: 100080, 111: 100081, 112: 100082, 113: 100084, 114: 100085, 115: 100086, 116: 100087, 117: 100088, 118: 100089, 119: 100090, 120: 100940, 121: 100941, 122: 100943, 123: 101303, 124: 101304, 125: 101305, 126: 101306, 127: 101635, 128: 101636, 129: 101742, 130: 101743, 131: 101744, 132: 109934, 133: 109935, 134: 109936, 135: 109937, 136: 109938, 137: 109939, 138: 109940, 139: 109941, 140: 109942, 141: 109944, 142: 109945, 143: 109946, 144: 109949, 145: 109950, 146: 100470, 147: 100471, 148: 100472, 149: 100473, 150: 100481, 151: 100482, 152: 100483, 153: 100484, 154: 100485, 155: 100486, 156: 100487, 157: 100489, 158: 100490, 159: 100491, 160: 100493, 161: 100494, 162: 100495, 163: 100498, 164: 100499, 165: 100503, 166: 100504, 167: 100119, 168: 100120, 169: 100121, 170: 100122, 171: 100123, 172: 100124, 173: 100282, 174: 100283, 175: 100284, 176: 100285, 177: 100868, 178: 100869, 179: 100870, 180: 100871, 181: 100872, 182: 100873, 183: 100874, 184: 100875, 185: 100876, 186: 100877, 187: 100878, 188: 100881, 189: 100899, 190: 100900, 191: 100997, 192: 100998, 193: 101081, 194: 101082, 195: 101083, 196: 101084, 197: 101281, 198: 101282, 199: 101430, 200: 101431, 201: 101480, 202: 101481, 203: 101482, 204: 101593, 205: 101594, 206: 101597, 207: 101598, 208: 101599, 209: 101600, 210: 101685, 211: 101686, 212: 101687, 213: 101688, 214: 101691, 215: 101692, 216: 101693, 217: 101694, 218: 101696, 219: 101697, 220: 101698, 221: 101699, 222: 101700, 223: 101701, 224: 101702, 225: 102065, 226: 102066, 227: 102251, 228: 102252, 229: 102257, 230: 102258, 231: 102259, 232: 102260, 233: 102261, 234: 102262, 235: 100348, 236: 100349, 237: 100350, 238: 100351, 239: 100352, 240: 100353, 241: 100354, 242: 100355, 243: 100356, 244: 100357, 245: 100358, 246: 100359, 247: 100360, 248: 100361, 249: 100362, 250: 100363, 251: 100364, 252: 100365, 253: 100366, 254: 100367, 255: 100368, 256: 100369, 257: 100370, 258: 100371, 259: 100372, 260: 100952, 261: 100953, 262: 100954, 263: 100955, 264: 101098, 265: 101127, 266: 101143, 267: 101144, 268: 101165, 269: 101221, 270: 101228, 271: 101229, 272: 101230, 273: 101231, 274: 101349, 275: 101350, 276: 101351, 277: 101617, 278: 101618, 279: 101619, 280: 113062, 281: 113063, 282: 113096, 283: 113102, 284: 113103, 285: 113104, 286: 113249, 287: 113250, 288: 113251, 289: 113252, 290: 113253, 291: 113254, 292: 114630, 293: 114633, 294: 122612, 295: 131579, 296: 125337, 297: 115991, 298: 115992, 299: 115993, 300: 115994, 301: 115995, 302: 116424, 303: 104483, 304: 104484, 305: 104485, 306: 104486, 307: 104487, 308: 104488, 309: 104489, 310: 104490, 311: 104491, 312: 104492, 313: 104635, 314: 104636, 315: 104722, 316: 104723, 317: 104724, 318: 104725, 319: 104726, 320: 104727, 321: 104728, 322: 104729, 323: 105024, 324: 103780, 325: 101805, 326: 100220, 327: 120491, 328: 120488, 329: 100218, 330: 100233, 331: 143603, 332: 100222, 333: 107288, 334: 100254, 335: 100261, 336: 100262, 337: 100263, 338: 100264, 339: 100265, 340: 100278, 341: 100279, 342: 100280, 343: 100281, 344: 100286, 345: 100289, 346: 100290, 347: 100291, 348: 100292, 349: 100298, 350: 100299, 351: 100300, 352: 100301, 353: 100828, 354: 100829, 355: 100830, 356: 100831, 357: 100832, 358: 100833, 359: 100834, 360: 100835, 361: 100836, 362: 101372, 363: 118069, 364: 100312, 365: 100313, 366: 100314, 367: 100315, 368: 100316, 369: 100317, 370: 100318, 371: 100319, 372: 100321, 373: 100323, 374: 100325, 375: 100332, 376: 100864, 377: 100865, 378: 101184, 379: 101185, 380: 139534, 381: 139535, 382: 139536, 383: 139537, 384: 139538, 385: 139539, 386: 107578, 387: 107579, 388: 107589, 389: 107646, 390: 107647, 391: 107648, 392: 107649, 393: 107656, 394: 107657, 395: 117141, 396: 122388, 397: 122389, 398: 122390, 399: 124233, 400: 124303, 401: 124305, 402: 112408, 403: 112645, 404: 112647, 405: 112648, 406: 113142, 407: 100379, 408: 100383, 409: 100385, 410: 100386, 411: 100387, 412: 100837, 413: 100838, 414: 100851, 415: 100853, 416: 100856, 417: 100858, 418: 100859, 419: 101665, 420: 101667, 421: 101862, 422: 101864, 423: 102172, 424: 102173, 425: 102174, 426: 102431, 427: 102432, 428: 102433, 429: 102673, 430: 102675, 431: 102676, 432: 102677, 433: 102751, 434: 102752, 435: 102753, 436: 102848, 437: 102849, 438: 102851, 439: 103048, 440: 103050, 441: 103051, 442: 103052, 443: 122640, 444: 116484, 445: 116485, 446: 120084, 447: 120086, 448: 125305, 449: 125306, 450: 133836, 451: 133837, 452: 133838, 453: 133839, 454: 135598, 455: 135599, 456: 135600, 457: 135601, 458: 138254, 459: 100171, 460: 100172, 461: 100173, 462: 100174, 463: 100175, 464: 100176, 465: 100177, 466: 100630, 467: 100631, 468: 101065, 469: 101066, 470: 103490, 471: 103491, 472: 103734, 473: 103735, 474: 103736, 475: 107693, 476: 108479, 477: 100638, 478: 100639, 479: 100640, 480: 100641, 481: 100643, 482: 100644, 483: 100645, 484: 100717, 485: 100915, 486: 100917, 487: 100927, 488: 100928, 489: 100929, 490: 100934, 491: 100968, 492: 100999, 493: 101001, 494: 101002, 495: 101003, 496: 101160, 497: 101169, 498: 101206, 499: 101295, 500: 101530, 501: 101551, 502: 101929, 503: 101932, 504: 101933, 505: 101934, 506: 101935, 507: 101950, 508: 101951, 509: 101952, 510: 102030, 511: 102053, 512: 102054, 513: 102055, 514: 102056, 515: 102058, 516: 102061, 517: 102201, 518: 102202, 519: 125711, 520: 100602, 521: 100603, 522: 100604, 523: 100605, 524: 100606, 525: 100607, 526: 100608, 527: 100609, 528: 100610, 529: 100611, 530: 100612, 531: 100613, 532: 100614, 533: 100617, 534: 100618, 535: 100619, 536: 100620, 537: 100621, 538: 100622, 539: 100623, 540: 100780, 541: 100781, 542: 100782, 543: 100783, 544: 100784, 545: 100785, 546: 100786, 547: 100787, 548: 100788, 549: 100414, 550: 100415, 551: 100416, 552: 100417, 553: 100418, 554: 100474, 555: 100475, 556: 101000, 557: 101042, 558: 101049, 559: 101186, 560: 101222, 561: 101224, 562: 101419, 563: 101471, 564: 101489, 565: 101490, 566: 101491, 567: 101547, 568: 101548, 569: 101605, 570: 101606, 571: 101609, 572: 101659, 573: 101672, 574: 100476, 575: 100477, 576: 100480, 577: 101094, 578: 101095, 579: 101113, 580: 101114, 581: 101209, 582: 100496, 583: 100497, 584: 115270, 585: 115290, 586: 115398, 587: 115399, 588: 115400, 589: 115401, 590: 115402, 591: 100381, 592: 100382, 593: 100646, 594: 100648, 595: 100650, 596: 100651, 597: 100656, 598: 100657, 599: 100663, 600: 100664, 601: 100668, 602: 100669, 603: 100678, 604: 100682, 605: 100684, 606: 100685, 607: 100711, 608: 100712, 609: 100723, 610: 100724, 611: 100725, 612: 100739, 613: 100740, 614: 100741, 615: 100742, 616: 100748, 617: 100749, 618: 100750, 619: 100751, 620: 100800, 621: 100801, 622: 100802, 623: 100803, 624: 145963}\n"
     ]
    }
   ],
   "source": [
    "# Create a dictionary to map indices to scheme_codes\n",
    "index_to_scheme_code = dict(zip(data.index, data['Scheme Codes']))\n",
    "\n",
    "# Example: Get the scheme_code corresponding to index 0\n",
    "index_0_scheme_code = index_to_scheme_code[0]\n",
    "print(\"Scheme Code for index 0:\", index_to_scheme_code)"
   ]
  },
  {
   "cell_type": "code",
   "execution_count": 5,
   "id": "ff05695d-f015-4832-ae6a-e5454001489a",
   "metadata": {},
   "outputs": [],
   "source": [
    "columns_to_drop = ['scheme_name', 'Scheme Codes', 'returns_3yr', 'returns_5yr']\n",
    "first_year_returns_data = data.drop(columns=columns_to_drop)"
   ]
  },
  {
   "cell_type": "code",
   "execution_count": 6,
   "id": "e233fe8e-e0f2-403b-9a11-9ea263c6a8dc",
   "metadata": {},
   "outputs": [],
   "source": [
    "columns_to_drop = ['scheme_name', 'Scheme Codes', 'returns_1yr', 'returns_5yr']\n",
    "third_year_returns_data = data.drop(columns=columns_to_drop)"
   ]
  },
  {
   "cell_type": "code",
   "execution_count": 7,
   "id": "7d0473fc-4693-489d-8398-1bbc8bda15ba",
   "metadata": {},
   "outputs": [],
   "source": [
    "columns_to_drop = ['scheme_name', 'Scheme Codes', 'returns_1yr', 'returns_3yr']\n",
    "fifth_year_returns_data = data.drop(columns=columns_to_drop)"
   ]
  },
  {
   "cell_type": "code",
   "execution_count": 8,
   "id": "7326c6d0-f3b5-49a4-98c3-4f62f03a8a89",
   "metadata": {},
   "outputs": [],
   "source": [
    "from sklearn.preprocessing import MinMaxScaler\n",
    "\n",
    "# Initialize MinMaxScaler\n",
    "scaler = MinMaxScaler()\n",
    "\n",
    "# Fit the scaler to the data and transform the data\n",
    "first_year_returns_data_normalized = scaler.fit_transform(first_year_returns_data)\n",
    "\n",
    "# Convert the scaled data back to a DataFrame\n",
    "first_year_returns_data_normalized = pd.DataFrame(first_year_returns_data_normalized, columns=first_year_returns_data.columns)\n",
    "first_year=first_year_returns_data_normalized.copy()"
   ]
  },
  {
   "cell_type": "code",
   "execution_count": 9,
   "id": "b4789c9a-a2d2-4889-9a61-fa5bb9457feb",
   "metadata": {},
   "outputs": [],
   "source": [
    "# Initialize MinMaxScaler\n",
    "scaler = MinMaxScaler()\n",
    "\n",
    "# Fit the scaler to the data and transform the data\n",
    "third_year_returns_data_normalized = scaler.fit_transform(third_year_returns_data)\n",
    "\n",
    "# Convert the scaled data back to a DataFrame\n",
    "third_year_returns_data_normalized = pd.DataFrame(third_year_returns_data_normalized, columns=third_year_returns_data.columns)\n",
    "third_year=third_year_returns_data_normalized.copy()"
   ]
  },
  {
   "cell_type": "code",
   "execution_count": 10,
   "id": "470b614b-964c-474e-9e79-a80d9c718b2c",
   "metadata": {},
   "outputs": [],
   "source": [
    "# Initialize MinMaxScaler\n",
    "scaler = MinMaxScaler()\n",
    "\n",
    "# Fit the scaler to the data and transform the data\n",
    "fifth_year_returns_data_normalized = scaler.fit_transform(fifth_year_returns_data)\n",
    "\n",
    "# Convert the scaled data back to a DataFrame\n",
    "fifth_year_returns_data_normalized = pd.DataFrame(fifth_year_returns_data_normalized, columns=fifth_year_returns_data.columns)\n",
    "fifth_year=fifth_year_returns_data_normalized.copy()"
   ]
  },
  {
   "cell_type": "code",
   "execution_count": 11,
   "id": "19493f3d-d805-4c6d-93cc-6013190d0b00",
   "metadata": {},
   "outputs": [
    {
     "data": {
      "text/html": [
       "<div>\n",
       "<style scoped>\n",
       "    .dataframe tbody tr th:only-of-type {\n",
       "        vertical-align: middle;\n",
       "    }\n",
       "\n",
       "    .dataframe tbody tr th {\n",
       "        vertical-align: top;\n",
       "    }\n",
       "\n",
       "    .dataframe thead th {\n",
       "        text-align: right;\n",
       "    }\n",
       "</style>\n",
       "<table border=\"1\" class=\"dataframe\">\n",
       "  <thead>\n",
       "    <tr style=\"text-align: right;\">\n",
       "      <th></th>\n",
       "      <th>expense_ratio</th>\n",
       "      <th>risk_level</th>\n",
       "      <th>returns_1yr</th>\n",
       "    </tr>\n",
       "  </thead>\n",
       "  <tbody>\n",
       "    <tr>\n",
       "      <th>0</th>\n",
       "      <td>0.083004</td>\n",
       "      <td>0.4</td>\n",
       "      <td>0.157475</td>\n",
       "    </tr>\n",
       "    <tr>\n",
       "      <th>1</th>\n",
       "      <td>0.118577</td>\n",
       "      <td>0.0</td>\n",
       "      <td>0.168106</td>\n",
       "    </tr>\n",
       "    <tr>\n",
       "      <th>2</th>\n",
       "      <td>0.185771</td>\n",
       "      <td>0.8</td>\n",
       "      <td>0.144186</td>\n",
       "    </tr>\n",
       "    <tr>\n",
       "      <th>3</th>\n",
       "      <td>0.217391</td>\n",
       "      <td>1.0</td>\n",
       "      <td>0.160797</td>\n",
       "    </tr>\n",
       "    <tr>\n",
       "      <th>4</th>\n",
       "      <td>0.438735</td>\n",
       "      <td>1.0</td>\n",
       "      <td>0.166113</td>\n",
       "    </tr>\n",
       "  </tbody>\n",
       "</table>\n",
       "</div>"
      ],
      "text/plain": [
       "   expense_ratio  risk_level  returns_1yr\n",
       "0       0.083004         0.4     0.157475\n",
       "1       0.118577         0.0     0.168106\n",
       "2       0.185771         0.8     0.144186\n",
       "3       0.217391         1.0     0.160797\n",
       "4       0.438735         1.0     0.166113"
      ]
     },
     "execution_count": 11,
     "metadata": {},
     "output_type": "execute_result"
    }
   ],
   "source": [
    "first_year_returns_data_normalized.head()"
   ]
  },
  {
   "cell_type": "code",
   "execution_count": 12,
   "id": "b3323fb8-ec4b-4c8e-8d1b-ede6df5b5c73",
   "metadata": {},
   "outputs": [
    {
     "data": {
      "text/html": [
       "<div>\n",
       "<style scoped>\n",
       "    .dataframe tbody tr th:only-of-type {\n",
       "        vertical-align: middle;\n",
       "    }\n",
       "\n",
       "    .dataframe tbody tr th {\n",
       "        vertical-align: top;\n",
       "    }\n",
       "\n",
       "    .dataframe thead th {\n",
       "        text-align: right;\n",
       "    }\n",
       "</style>\n",
       "<table border=\"1\" class=\"dataframe\">\n",
       "  <thead>\n",
       "    <tr style=\"text-align: right;\">\n",
       "      <th></th>\n",
       "      <th>expense_ratio</th>\n",
       "      <th>risk_level</th>\n",
       "      <th>returns_3yr</th>\n",
       "    </tr>\n",
       "  </thead>\n",
       "  <tbody>\n",
       "    <tr>\n",
       "      <th>0</th>\n",
       "      <td>0.083004</td>\n",
       "      <td>0.4</td>\n",
       "      <td>0.046990</td>\n",
       "    </tr>\n",
       "    <tr>\n",
       "      <th>1</th>\n",
       "      <td>0.118577</td>\n",
       "      <td>0.0</td>\n",
       "      <td>0.022026</td>\n",
       "    </tr>\n",
       "    <tr>\n",
       "      <th>2</th>\n",
       "      <td>0.185771</td>\n",
       "      <td>0.8</td>\n",
       "      <td>0.229075</td>\n",
       "    </tr>\n",
       "    <tr>\n",
       "      <th>3</th>\n",
       "      <td>0.217391</td>\n",
       "      <td>1.0</td>\n",
       "      <td>0.224670</td>\n",
       "    </tr>\n",
       "    <tr>\n",
       "      <th>4</th>\n",
       "      <td>0.438735</td>\n",
       "      <td>1.0</td>\n",
       "      <td>0.312775</td>\n",
       "    </tr>\n",
       "  </tbody>\n",
       "</table>\n",
       "</div>"
      ],
      "text/plain": [
       "   expense_ratio  risk_level  returns_3yr\n",
       "0       0.083004         0.4     0.046990\n",
       "1       0.118577         0.0     0.022026\n",
       "2       0.185771         0.8     0.229075\n",
       "3       0.217391         1.0     0.224670\n",
       "4       0.438735         1.0     0.312775"
      ]
     },
     "execution_count": 12,
     "metadata": {},
     "output_type": "execute_result"
    }
   ],
   "source": [
    "third_year_returns_data_normalized.head()"
   ]
  },
  {
   "cell_type": "code",
   "execution_count": 13,
   "id": "e1c4ffd3-7eec-4d1d-aba5-70ad86a0364f",
   "metadata": {},
   "outputs": [
    {
     "data": {
      "text/html": [
       "<div>\n",
       "<style scoped>\n",
       "    .dataframe tbody tr th:only-of-type {\n",
       "        vertical-align: middle;\n",
       "    }\n",
       "\n",
       "    .dataframe tbody tr th {\n",
       "        vertical-align: top;\n",
       "    }\n",
       "\n",
       "    .dataframe thead th {\n",
       "        text-align: right;\n",
       "    }\n",
       "</style>\n",
       "<table border=\"1\" class=\"dataframe\">\n",
       "  <thead>\n",
       "    <tr style=\"text-align: right;\">\n",
       "      <th></th>\n",
       "      <th>expense_ratio</th>\n",
       "      <th>risk_level</th>\n",
       "      <th>returns_5yr</th>\n",
       "    </tr>\n",
       "  </thead>\n",
       "  <tbody>\n",
       "    <tr>\n",
       "      <th>0</th>\n",
       "      <td>0.083004</td>\n",
       "      <td>0.4</td>\n",
       "      <td>0.402930</td>\n",
       "    </tr>\n",
       "    <tr>\n",
       "      <th>1</th>\n",
       "      <td>0.118577</td>\n",
       "      <td>0.0</td>\n",
       "      <td>0.351648</td>\n",
       "    </tr>\n",
       "    <tr>\n",
       "      <th>2</th>\n",
       "      <td>0.185771</td>\n",
       "      <td>0.8</td>\n",
       "      <td>0.505495</td>\n",
       "    </tr>\n",
       "    <tr>\n",
       "      <th>3</th>\n",
       "      <td>0.217391</td>\n",
       "      <td>1.0</td>\n",
       "      <td>0.505495</td>\n",
       "    </tr>\n",
       "    <tr>\n",
       "      <th>4</th>\n",
       "      <td>0.438735</td>\n",
       "      <td>1.0</td>\n",
       "      <td>0.487179</td>\n",
       "    </tr>\n",
       "  </tbody>\n",
       "</table>\n",
       "</div>"
      ],
      "text/plain": [
       "   expense_ratio  risk_level  returns_5yr\n",
       "0       0.083004         0.4     0.402930\n",
       "1       0.118577         0.0     0.351648\n",
       "2       0.185771         0.8     0.505495\n",
       "3       0.217391         1.0     0.505495\n",
       "4       0.438735         1.0     0.487179"
      ]
     },
     "execution_count": 13,
     "metadata": {},
     "output_type": "execute_result"
    }
   ],
   "source": [
    "fifth_year_returns_data_normalized.head()"
   ]
  },
  {
   "cell_type": "code",
   "execution_count": 14,
   "id": "f0e43eb8-5134-4e69-a3e7-6d1ee6bf5ab2",
   "metadata": {},
   "outputs": [
    {
     "name": "stdout",
     "output_type": "stream",
     "text": [
      "Cosine Similarity Matrix:\n",
      "          0         1         2         3         4         5         6    \\\n",
      "0    1.000000  0.403193  0.980960  0.977556  0.956512  0.996265  0.941039   \n",
      "1    0.403193  1.000000  0.269717  0.247804  0.351837  0.450762  0.688933   \n",
      "2    0.980960  0.269717  1.000000  0.999742  0.983074  0.979209  0.875637   \n",
      "3    0.977556  0.247804  0.999742  1.000000  0.980639  0.974612  0.864842   \n",
      "4    0.956512  0.351837  0.983074  0.980639  1.000000  0.970541  0.885528   \n",
      "..        ...       ...       ...       ...       ...       ...       ...   \n",
      "620  0.935211  0.700926  0.870371  0.859244  0.884870  0.951493  0.999680   \n",
      "621  0.989625  0.485886  0.972527  0.967024  0.974283  0.998318  0.962606   \n",
      "622  0.932507  0.434794  0.954671  0.950043  0.992407  0.956524  0.896699   \n",
      "623  0.952279  0.333562  0.982903  0.980889  0.999768  0.966089  0.875342   \n",
      "624  0.405683  0.980885  0.248531  0.227108  0.298821  0.438914  0.685241   \n",
      "\n",
      "          7         8         9    ...       615       616       617  \\\n",
      "0    0.980452  0.938664  0.909251  ...  0.364069  0.899805  0.954487   \n",
      "1    0.440127  0.203953  0.430482  ...  0.830593  0.504737  0.398260   \n",
      "2    0.981195  0.986421  0.938637  ...  0.178147  0.917293  0.975164   \n",
      "3    0.976753  0.987497  0.933963  ...  0.160151  0.910736  0.971577   \n",
      "4    0.991143  0.988021  0.985862  ...  0.159755  0.972932  0.998629   \n",
      "..        ...       ...       ...  ...       ...       ...       ...   \n",
      "620  0.936506  0.813748  0.879880  ...  0.598371  0.901205  0.901346   \n",
      "621  0.995480  0.941806  0.950699  ...  0.371271  0.949173  0.978102   \n",
      "622  0.985151  0.965159  0.998204  ...  0.189937  0.993967  0.996875   \n",
      "623  0.988180  0.990626  0.985213  ...  0.138637  0.970751  0.997564   \n",
      "624  0.404469  0.154668  0.351492  ...  0.923078  0.424347  0.342443   \n",
      "\n",
      "          618       619       620       621       622       623       624  \n",
      "0    0.998589  0.975148  0.935211  0.989625  0.932507  0.952279  0.405683  \n",
      "1    0.439278  0.369666  0.700926  0.485886  0.434794  0.333562  0.980885  \n",
      "2    0.978852  0.990301  0.870371  0.972527  0.954671  0.982903  0.248531  \n",
      "3    0.974553  0.987552  0.859244  0.967024  0.950043  0.980889  0.227108  \n",
      "4    0.963769  0.997363  0.884870  0.974283  0.992407  0.999768  0.298821  \n",
      "..        ...       ...       ...       ...       ...       ...       ...  \n",
      "620  0.948477  0.905471  1.000000  0.960375  0.899023  0.874633  0.693184  \n",
      "621  0.995790  0.986324  0.960375  1.000000  0.967260  0.969549  0.465311  \n",
      "622  0.946154  0.985888  0.899023  0.967260  1.000000  0.991162  0.366662  \n",
      "623  0.959196  0.996094  0.874633  0.969549  0.991162  1.000000  0.278820  \n",
      "624  0.434111  0.329907  0.693184  0.465311  0.366662  0.278820  1.000000  \n",
      "\n",
      "[625 rows x 625 columns]\n"
     ]
    }
   ],
   "source": [
    "from sklearn.preprocessing import MinMaxScaler\n",
    "from sklearn.metrics.pairwise import cosine_similarity\n",
    "\n",
    "# Calculate cosine similarity\n",
    "first_year_returns_similarity = cosine_similarity(first_year_returns_data_normalized)\n",
    "\n",
    "# Convert cosine similarity array to DataFrame for readability\n",
    "first_year_returns_similarity = pd.DataFrame(first_year_returns_similarity, columns=first_year_returns_data_normalized.index, index=first_year_returns_data_normalized.index)\n",
    "\n",
    "print(\"Cosine Similarity Matrix:\")\n",
    "print(first_year_returns_similarity)"
   ]
  },
  {
   "cell_type": "code",
   "execution_count": 15,
   "id": "8f6e4a47-e783-44df-ba00-e8cddd1b112b",
   "metadata": {},
   "outputs": [
    {
     "name": "stdout",
     "output_type": "stream",
     "text": [
      "Cosine Similarity Matrix:\n",
      "          0         1         2         3         4         5         6    \\\n",
      "0    1.000000  0.219325  0.987359  0.994801  0.965760  0.995742  0.960494   \n",
      "1    0.219325  1.000000  0.263281  0.243161  0.430029  0.308085  0.466807   \n",
      "2    0.987359  0.263281  1.000000  0.998345  0.984128  0.986525  0.974877   \n",
      "3    0.994801  0.243161  0.998345  1.000000  0.979423  0.992245  0.971322   \n",
      "4    0.965760  0.430029  0.984128  0.979423  1.000000  0.981311  0.998464   \n",
      "..        ...       ...       ...       ...       ...       ...       ...   \n",
      "620  0.951410  0.493864  0.968010  0.963489  0.996940  0.973571  0.999505   \n",
      "621  0.988033  0.361521  0.976319  0.982564  0.981891  0.997758  0.984100   \n",
      "622  0.943371  0.527971  0.953543  0.951024  0.990185  0.969320  0.996370   \n",
      "623  0.960784  0.429122  0.984088  0.977652  0.999469  0.976154  0.996707   \n",
      "624  0.142591  0.324605  0.297670  0.242501  0.328929  0.163182  0.302958   \n",
      "\n",
      "          7         8         9    ...       615       616       617  \\\n",
      "0    0.982402  0.931718  0.911783  ...  0.186880  0.904001  0.963693   \n",
      "1    0.397121  0.353015  0.571582  ...  0.569063  0.614734  0.461877   \n",
      "2    0.976659  0.977049  0.941702  ...  0.334311  0.916641  0.974877   \n",
      "3    0.980598  0.963271  0.931930  ...  0.280577  0.912592  0.972477   \n",
      "4    0.988457  0.977238  0.985940  ...  0.409320  0.971672  0.997755   \n",
      "..        ...       ...       ...  ...       ...       ...       ...   \n",
      "620  0.987656  0.962903  0.993682  ...  0.415382  0.987173  0.999015   \n",
      "621  0.998905  0.929368  0.950971  ...  0.230620  0.955538  0.987203   \n",
      "622  0.987418  0.942925  0.991929  ...  0.388793  0.994284  0.996689   \n",
      "623  0.983126  0.983245  0.986419  ...  0.434889  0.968026  0.995367   \n",
      "624  0.182071  0.489550  0.389340  ...  0.962487  0.279855  0.283693   \n",
      "\n",
      "          618       619       620       621       622       623       624  \n",
      "0    0.996159  0.951519  0.951410  0.988033  0.943371  0.960784  0.142591  \n",
      "1    0.282368  0.394813  0.493864  0.361521  0.527971  0.429122  0.324605  \n",
      "2    0.995485  0.985084  0.968010  0.976319  0.953543  0.984088  0.297670  \n",
      "3    0.998386  0.975240  0.963489  0.982564  0.951024  0.977652  0.242501  \n",
      "4    0.984338  0.993328  0.996940  0.981891  0.990185  0.999469  0.328929  \n",
      "..        ...       ...       ...       ...       ...       ...       ...  \n",
      "620  0.972524  0.984407  1.000000  0.979356  0.997786  0.995377  0.314839  \n",
      "621  0.991522  0.958335  0.979356  1.000000  0.979171  0.975653  0.145983  \n",
      "622  0.963734  0.970531  0.997786  0.979171  1.000000  0.986903  0.273000  \n",
      "623  0.981265  0.996397  0.995377  0.975653  0.986903  1.000000  0.358639  \n",
      "624  0.216544  0.420569  0.314839  0.145983  0.273000  0.358639  1.000000  \n",
      "\n",
      "[625 rows x 625 columns]\n"
     ]
    }
   ],
   "source": [
    "# Calculate cosine similarity\n",
    "third_year_returns_similarity = cosine_similarity(third_year_returns_data_normalized)\n",
    "\n",
    "# Convert cosine similarity array to DataFrame for readability\n",
    "third_year_returns_similarity = pd.DataFrame(third_year_returns_similarity, columns=third_year_returns_data_normalized.index, index=third_year_returns_data_normalized.index)\n",
    "\n",
    "print(\"Cosine Similarity Matrix:\")\n",
    "print(third_year_returns_similarity)"
   ]
  },
  {
   "cell_type": "code",
   "execution_count": 16,
   "id": "b433b30e-6f7d-4345-9102-d5cdda902951",
   "metadata": {},
   "outputs": [
    {
     "name": "stdout",
     "output_type": "stream",
     "text": [
      "Cosine Similarity Matrix:\n",
      "          0         1         2         3         4         5         6    \\\n",
      "0    1.000000  0.711628  0.974228  0.949299  0.922164  0.997821  0.943053   \n",
      "1    0.711628  1.000000  0.558236  0.480515  0.503303  0.735662  0.903641   \n",
      "2    0.974228  0.558236  1.000000  0.995609  0.977977  0.971598  0.851212   \n",
      "3    0.949299  0.480515  0.995609  1.000000  0.983011  0.945238  0.798466   \n",
      "4    0.922164  0.503303  0.977977  0.983011  1.000000  0.929818  0.787005   \n",
      "..        ...       ...       ...       ...       ...       ...       ...   \n",
      "620  0.966535  0.863856  0.899947  0.856082  0.854338  0.976579  0.992608   \n",
      "621  0.990320  0.695541  0.983622  0.964132  0.960269  0.995288  0.925012   \n",
      "622  0.926406  0.594149  0.963414  0.959005  0.991155  0.941090  0.830884   \n",
      "623  0.948589  0.566842  0.986380  0.984044  0.996690  0.956126  0.834432   \n",
      "624  0.713070  0.974496  0.540622  0.459516  0.441661  0.723476  0.899880   \n",
      "\n",
      "          7         8         9    ...       615       616       617  \\\n",
      "0    0.967112  0.995159  0.885419  ...  0.703958  0.903332  0.924932   \n",
      "1    0.612485  0.699263  0.536733  ...  0.951467  0.625704  0.534754   \n",
      "2    0.990099  0.983454  0.940707  ...  0.526512  0.935279  0.974654   \n",
      "3    0.981994  0.962606  0.943127  ...  0.445202  0.927483  0.976549   \n",
      "4    0.988961  0.951624  0.987833  ...  0.411943  0.975252  0.998965   \n",
      "..        ...       ...       ...  ...       ...       ...       ...   \n",
      "620  0.920401  0.964033  0.846982  ...  0.824289  0.890538  0.868482   \n",
      "621  0.990996  0.999159  0.940135  ...  0.646552  0.954084  0.964858   \n",
      "622  0.990003  0.958665  0.995116  ...  0.481285  0.995398  0.996162   \n",
      "623  0.997697  0.972901  0.983522  ...  0.484572  0.979063  0.997650   \n",
      "624  0.566654  0.679477  0.443855  ...  0.996261  0.532572  0.467668   \n",
      "\n",
      "          618       619       620       621       622       623       624  \n",
      "0    0.995982  0.881069  0.966535  0.990320  0.926406  0.948589  0.713070  \n",
      "1    0.672765  0.393531  0.863856  0.695541  0.594149  0.566842  0.974496  \n",
      "2    0.988832  0.961963  0.899947  0.983622  0.963414  0.986380  0.540622  \n",
      "3    0.970546  0.978306  0.856082  0.964132  0.959005  0.984044  0.459516  \n",
      "4    0.953096  0.992445  0.854338  0.960269  0.991155  0.996690  0.441661  \n",
      "..        ...       ...       ...       ...       ...       ...       ...  \n",
      "620  0.953848  0.786824  1.000000  0.961496  0.892249  0.893458  0.843544  \n",
      "621  0.997160  0.923402  0.961496  1.000000  0.969081  0.979633  0.666695  \n",
      "622  0.954235  0.969859  0.892249  0.969081  1.000000  0.993963  0.517725  \n",
      "623  0.972977  0.980022  0.893458  0.979633  0.993963  1.000000  0.512456  \n",
      "624  0.659784  0.332404  0.843544  0.666695  0.517725  0.512456  1.000000  \n",
      "\n",
      "[625 rows x 625 columns]\n"
     ]
    }
   ],
   "source": [
    "# Calculate cosine similarity\n",
    "fifth_year_returns_similarity = cosine_similarity(fifth_year_returns_data_normalized)\n",
    "\n",
    "# Convert cosine similarity array to DataFrame for readability\n",
    "fifth_year_returns_similarity = pd.DataFrame(fifth_year_returns_similarity, columns=fifth_year_returns_data_normalized.index, index=fifth_year_returns_data_normalized.index)\n",
    "\n",
    "print(\"Cosine Similarity Matrix:\")\n",
    "print(fifth_year_returns_similarity)"
   ]
  },
  {
   "cell_type": "code",
   "execution_count": 17,
   "id": "ba3bf0ce-2e1c-41b1-abbe-1c591e265e86",
   "metadata": {},
   "outputs": [
    {
     "name": "stderr",
     "output_type": "stream",
     "text": [
      "C:\\Users\\SOUVIK GHOSH\\AppData\\Local\\Programs\\Python\\Python311\\Lib\\site-packages\\sklearn\\cluster\\_kmeans.py:1416: FutureWarning: The default value of `n_init` will change from 10 to 'auto' in 1.4. Set the value of `n_init` explicitly to suppress the warning\n",
      "  super()._check_params_vs_input(X, default_n_init=10)\n"
     ]
    },
    {
     "name": "stdout",
     "output_type": "stream",
     "text": [
      "The average silhouette_score is : 0.4964679156696875\n"
     ]
    }
   ],
   "source": [
    "from sklearn.cluster import KMeans\n",
    "from sklearn.metrics import silhouette_score\n",
    "\n",
    "# Create a KMeans clustering object\n",
    "kmeans = KMeans(n_clusters=10)  # You can adjust the number of clusters as needed\n",
    "\n",
    "# Fit KMeans to the vector representations\n",
    "kmeans.fit(first_year_returns_data_normalized)\n",
    "\n",
    "# Get the cluster labels\n",
    "cluster_labels = kmeans.labels_\n",
    "\n",
    "silhouette_avg = silhouette_score(first_year_returns_data_normalized, cluster_labels)\n",
    "\n",
    "first_year_returns_data_normalized['cluster'] = cluster_labels\n",
    "print(\"The average silhouette_score is :\", silhouette_avg)"
   ]
  },
  {
   "cell_type": "code",
   "execution_count": 26,
   "id": "b6e89d13-d2af-472a-be0c-6e89866507d1",
   "metadata": {},
   "outputs": [],
   "source": [
    "first_year_returns_data_normalized.to_csv('first_year_returns_data_normalized.csv', index=False)"
   ]
  },
  {
   "cell_type": "code",
   "execution_count": 18,
   "id": "8f447dc9-cfa1-4253-a996-88150f7a6965",
   "metadata": {},
   "outputs": [
    {
     "data": {
      "text/html": [
       "<div>\n",
       "<style scoped>\n",
       "    .dataframe tbody tr th:only-of-type {\n",
       "        vertical-align: middle;\n",
       "    }\n",
       "\n",
       "    .dataframe tbody tr th {\n",
       "        vertical-align: top;\n",
       "    }\n",
       "\n",
       "    .dataframe thead th {\n",
       "        text-align: right;\n",
       "    }\n",
       "</style>\n",
       "<table border=\"1\" class=\"dataframe\">\n",
       "  <thead>\n",
       "    <tr style=\"text-align: right;\">\n",
       "      <th></th>\n",
       "      <th>expense_ratio</th>\n",
       "      <th>risk_level</th>\n",
       "      <th>returns_1yr</th>\n",
       "      <th>cluster</th>\n",
       "    </tr>\n",
       "  </thead>\n",
       "  <tbody>\n",
       "    <tr>\n",
       "      <th>0</th>\n",
       "      <td>0.083004</td>\n",
       "      <td>0.4</td>\n",
       "      <td>0.157475</td>\n",
       "      <td>0</td>\n",
       "    </tr>\n",
       "    <tr>\n",
       "      <th>1</th>\n",
       "      <td>0.118577</td>\n",
       "      <td>0.0</td>\n",
       "      <td>0.168106</td>\n",
       "      <td>9</td>\n",
       "    </tr>\n",
       "    <tr>\n",
       "      <th>2</th>\n",
       "      <td>0.185771</td>\n",
       "      <td>0.8</td>\n",
       "      <td>0.144186</td>\n",
       "      <td>4</td>\n",
       "    </tr>\n",
       "    <tr>\n",
       "      <th>3</th>\n",
       "      <td>0.217391</td>\n",
       "      <td>1.0</td>\n",
       "      <td>0.160797</td>\n",
       "      <td>8</td>\n",
       "    </tr>\n",
       "    <tr>\n",
       "      <th>4</th>\n",
       "      <td>0.438735</td>\n",
       "      <td>1.0</td>\n",
       "      <td>0.166113</td>\n",
       "      <td>1</td>\n",
       "    </tr>\n",
       "  </tbody>\n",
       "</table>\n",
       "</div>"
      ],
      "text/plain": [
       "   expense_ratio  risk_level  returns_1yr  cluster\n",
       "0       0.083004         0.4     0.157475        0\n",
       "1       0.118577         0.0     0.168106        9\n",
       "2       0.185771         0.8     0.144186        4\n",
       "3       0.217391         1.0     0.160797        8\n",
       "4       0.438735         1.0     0.166113        1"
      ]
     },
     "execution_count": 18,
     "metadata": {},
     "output_type": "execute_result"
    }
   ],
   "source": [
    "first_year_returns_data_normalized.head()"
   ]
  },
  {
   "cell_type": "code",
   "execution_count": 19,
   "id": "73ec6995-f448-4d27-9bf8-e112d34eefa8",
   "metadata": {},
   "outputs": [
    {
     "name": "stderr",
     "output_type": "stream",
     "text": [
      "C:\\Users\\SOUVIK GHOSH\\AppData\\Local\\Programs\\Python\\Python311\\Lib\\site-packages\\sklearn\\cluster\\_kmeans.py:1416: FutureWarning: The default value of `n_init` will change from 10 to 'auto' in 1.4. Set the value of `n_init` explicitly to suppress the warning\n",
      "  super()._check_params_vs_input(X, default_n_init=10)\n"
     ]
    }
   ],
   "source": [
    "# Create a KMeans clustering object\n",
    "kmeans = KMeans(n_clusters=10)  # You can adjust the number of clusters as needed\n",
    "\n",
    "# Fit KMeans to the vector representations\n",
    "kmeans.fit(third_year_returns_data_normalized)\n",
    "\n",
    "# Get the cluster labels\n",
    "cluster_labels = kmeans.labels_\n",
    "\n",
    "third_year_returns_data_normalized['cluster'] = cluster_labels"
   ]
  },
  {
   "cell_type": "code",
   "execution_count": 27,
   "id": "2e8faf25-0614-4cb6-a04a-9f5bbc44d3a0",
   "metadata": {},
   "outputs": [],
   "source": [
    "third_year_returns_data_normalized.to_csv('third_year_returns_data_normalized.csv', index=False)"
   ]
  },
  {
   "cell_type": "code",
   "execution_count": 20,
   "id": "a51715a5-5796-409d-94af-464f35de20e3",
   "metadata": {},
   "outputs": [
    {
     "name": "stderr",
     "output_type": "stream",
     "text": [
      "C:\\Users\\SOUVIK GHOSH\\AppData\\Local\\Programs\\Python\\Python311\\Lib\\site-packages\\sklearn\\cluster\\_kmeans.py:1416: FutureWarning: The default value of `n_init` will change from 10 to 'auto' in 1.4. Set the value of `n_init` explicitly to suppress the warning\n",
      "  super()._check_params_vs_input(X, default_n_init=10)\n"
     ]
    }
   ],
   "source": [
    "# Create a KMeans clustering object\n",
    "kmeans = KMeans(n_clusters=10)  # You can adjust the number of clusters as needed\n",
    "\n",
    "# Fit KMeans to the vector representations\n",
    "kmeans.fit(fifth_year_returns_data_normalized)\n",
    "\n",
    "# Get the cluster labels\n",
    "cluster_labels = kmeans.labels_\n",
    "\n",
    "fifth_year_returns_data_normalized['cluster'] = cluster_labels"
   ]
  },
  {
   "cell_type": "code",
   "execution_count": 28,
   "id": "bdf529ba-bd7e-4b89-b1b3-e45e9b9daf5b",
   "metadata": {},
   "outputs": [],
   "source": [
    "fifth_year_returns_data_normalized.to_csv('fifth_year_returns_data_normalized.csv', index=False)"
   ]
  },
  {
   "cell_type": "code",
   "execution_count": 21,
   "id": "5db74f63-a4fd-4287-9d92-b3d4bce8a35c",
   "metadata": {},
   "outputs": [
    {
     "name": "stdin",
     "output_type": "stream",
     "text": [
      "Enter the expense ratio:  0.9\n",
      "Enter the risk level:  0.4\n",
      "Enter the username:  sg\n",
      "Enter 1 for 1st year returns, Enter 3 for 3rd year returns, Enter 5 for Fifth year returns:  1\n"
     ]
    },
    {
     "name": "stdout",
     "output_type": "stream",
     "text": [
      "Updated DataFrame:\n",
      "     expense_ratio  risk_level  returns_1yr\n",
      "0         0.083004         0.4     0.157475\n",
      "1         0.118577         0.0     0.168106\n",
      "2         0.185771         0.8     0.144186\n",
      "3         0.217391         1.0     0.160797\n",
      "4         0.438735         1.0     0.166113\n",
      "..             ...         ...          ...\n",
      "621       0.150198         0.4     0.166777\n",
      "622       0.355731         0.6     0.126246\n",
      "623       0.434783         1.0     0.142193\n",
      "624       0.063241         0.0     0.142193\n",
      "625       0.900000         0.4     0.750000\n",
      "\n",
      "[626 rows x 3 columns]\n"
     ]
    }
   ],
   "source": [
    "expense_ratio = float(input(\"Enter the expense ratio: \"))\n",
    "risk_level = float(input(\"Enter the risk level: \"))\n",
    "username = input(\"Enter the username: \")\n",
    "returns = int(input(\"Enter 1 for 1st year returns, Enter 3 for 3rd year returns, Enter 5 for Fifth year returns: \"))\n",
    "\n",
    "if returns == 1:\n",
    "    # Copy data1 to a new DataFrame\n",
    "    returns_data = first_year.copy()\n",
    "    user_data = {\n",
    "    'expense_ratio': [expense_ratio],\n",
    "    'risk_level': [risk_level],\n",
    "    'returns_1yr': [0.75]\n",
    "}\n",
    "elif returns == 3:\n",
    "    returns_data = third_year.copy()\n",
    "    user_data = {\n",
    "    'expense_ratio': [expense_ratio],\n",
    "    'risk_level': [risk_level],\n",
    "    'returns_3yr': [0.75]\n",
    "}\n",
    "elif returns == 5:\n",
    "    returns_data = fifth_year.copy()\n",
    "    user_data = {\n",
    "    'expense_ratio': [expense_ratio],\n",
    "    'risk_level': [risk_level],\n",
    "    'returns_5yr': [0.75]\n",
    "}\n",
    "else:\n",
    "    print(\"Invalid value. Please enter 1 or 3 or 5.\")\n",
    "\n",
    "# Convert the dictionary to a DataFrame\n",
    "user_df = pd.DataFrame(user_data)\n",
    "\n",
    "# Append the user input data to the original DataFrame\n",
    "returns_data = pd.concat([returns_data, user_df], ignore_index=True)\n",
    "\n",
    "# Now your data DataFrame contains the user input data as a new row\n",
    "print(\"Updated DataFrame:\")\n",
    "print(returns_data)"
   ]
  },
  {
   "cell_type": "code",
   "execution_count": 22,
   "id": "4a115c19-09c0-4296-914c-19e752b8ec6f",
   "metadata": {},
   "outputs": [
    {
     "name": "stdout",
     "output_type": "stream",
     "text": [
      "Cosine Similarity Matrix:\n",
      "          0         1         2         3         4         5         6    \\\n",
      "0    1.000000  0.403193  0.980960  0.977556  0.956512  0.996265  0.941039   \n",
      "1    0.403193  1.000000  0.269717  0.247804  0.351837  0.450762  0.688933   \n",
      "2    0.980960  0.269717  1.000000  0.999742  0.983074  0.979209  0.875637   \n",
      "3    0.977556  0.247804  0.999742  1.000000  0.980639  0.974612  0.864842   \n",
      "4    0.956512  0.351837  0.983074  0.980639  1.000000  0.970541  0.885528   \n",
      "..        ...       ...       ...       ...       ...       ...       ...   \n",
      "621  0.989625  0.485886  0.972527  0.967024  0.974283  0.998318  0.962606   \n",
      "622  0.932507  0.434794  0.954671  0.950043  0.992407  0.956524  0.896699   \n",
      "623  0.952279  0.333562  0.982903  0.980889  0.999768  0.966089  0.875342   \n",
      "624  0.405683  0.980885  0.248531  0.227108  0.298821  0.438914  0.685241   \n",
      "625  0.650943  0.914128  0.576731  0.558523  0.672406  0.704499  0.851521   \n",
      "\n",
      "          7         8         9    ...       616       617       618  \\\n",
      "0    0.980452  0.938664  0.909251  ...  0.899805  0.954487  0.998589   \n",
      "1    0.440127  0.203953  0.430482  ...  0.504737  0.398260  0.439278   \n",
      "2    0.981195  0.986421  0.938637  ...  0.917293  0.975164  0.978852   \n",
      "3    0.976753  0.987497  0.933963  ...  0.910736  0.971577  0.974553   \n",
      "4    0.991143  0.988021  0.985862  ...  0.972932  0.998629  0.963769   \n",
      "..        ...       ...       ...  ...       ...       ...       ...   \n",
      "621  0.995480  0.941806  0.950699  ...  0.949173  0.978102  0.995790   \n",
      "622  0.985151  0.965159  0.998204  ...  0.993967  0.996875  0.946154   \n",
      "623  0.988180  0.990626  0.985213  ...  0.970751  0.997564  0.959196   \n",
      "624  0.404469  0.154668  0.351492  ...  0.424347  0.342443  0.434111   \n",
      "625  0.723207  0.550773  0.749493  ...  0.803417  0.710097  0.687714   \n",
      "\n",
      "          619       620       621       622       623       624       625  \n",
      "0    0.975148  0.935211  0.989625  0.932507  0.952279  0.405683  0.650943  \n",
      "1    0.369666  0.700926  0.485886  0.434794  0.333562  0.980885  0.914128  \n",
      "2    0.990301  0.870371  0.972527  0.954671  0.982903  0.248531  0.576731  \n",
      "3    0.987552  0.859244  0.967024  0.950043  0.980889  0.227108  0.558523  \n",
      "4    0.997363  0.884870  0.974283  0.992407  0.999768  0.298821  0.672406  \n",
      "..        ...       ...       ...       ...       ...       ...       ...  \n",
      "621  0.986324  0.960375  1.000000  0.967260  0.969549  0.465311  0.740155  \n",
      "622  0.985888  0.899023  0.967260  1.000000  0.991162  0.366662  0.746236  \n",
      "623  0.996094  0.874633  0.969549  0.991162  1.000000  0.278820  0.659618  \n",
      "624  0.329907  0.693184  0.465311  0.366662  0.278820  1.000000  0.849004  \n",
      "625  0.674344  0.863884  0.740155  0.746236  0.659618  0.849004  1.000000  \n",
      "\n",
      "[626 rows x 626 columns]\n"
     ]
    }
   ],
   "source": [
    "# Calculate cosine similarity\n",
    "returns_data_similarity = cosine_similarity(returns_data)\n",
    "\n",
    "# Convert cosine similarity array to DataFrame for readability\n",
    "returns_data_similarity = pd.DataFrame(returns_data_similarity, columns=returns_data.index, index=returns_data.index)\n",
    "\n",
    "print(\"Cosine Similarity Matrix:\")\n",
    "print(returns_data_similarity)"
   ]
  },
  {
   "cell_type": "code",
   "execution_count": 23,
   "id": "f5048f75-0f54-4d2d-a87d-c79020a89810",
   "metadata": {},
   "outputs": [],
   "source": [
    "user_similarity=returns_data_similarity[625]"
   ]
  },
  {
   "cell_type": "code",
   "execution_count": 24,
   "id": "b3f528cc-f75d-4647-b679-84f42743889f",
   "metadata": {},
   "outputs": [
    {
     "name": "stdout",
     "output_type": "stream",
     "text": [
      "0      0.650943\n",
      "1      0.914128\n",
      "2      0.576731\n",
      "3      0.558523\n",
      "4      0.672406\n",
      "         ...   \n",
      "621    0.740155\n",
      "622    0.746236\n",
      "623    0.659618\n",
      "624    0.849004\n",
      "625    1.000000\n",
      "Name: 625, Length: 626, dtype: float64\n"
     ]
    }
   ],
   "source": [
    "print(user_similarity)"
   ]
  },
  {
   "cell_type": "code",
   "execution_count": 25,
   "id": "b6617e19-4296-4988-b1b9-ad522e9432ce",
   "metadata": {},
   "outputs": [
    {
     "name": "stdout",
     "output_type": "stream",
     "text": [
      "Indices of the top 10 largest values:\n",
      "[416  71 371 325 554 251 421 406 338 423]\n"
     ]
    }
   ],
   "source": [
    "import numpy as np\n",
    "\n",
    "# Exclude the last element of the array\n",
    "array_without_last = user_similarity[:-1]\n",
    "\n",
    "# Get the indices of the top 10 largest values\n",
    "top_10_indices = np.argpartition(-array_without_last, kth=10)[:10]\n",
    "\n",
    "# Print the indices of the top 10 largest values\n",
    "print(\"Indices of the top 10 largest values:\")\n",
    "print(top_10_indices)"
   ]
  },
  {
   "cell_type": "code",
   "execution_count": null,
   "id": "ce176ae5-3c7a-42e0-8b9a-745265edf323",
   "metadata": {},
   "outputs": [],
   "source": []
  }
 ],
 "metadata": {
  "kernelspec": {
   "display_name": "Python 3 (ipykernel)",
   "language": "python",
   "name": "python3"
  },
  "language_info": {
   "codemirror_mode": {
    "name": "ipython",
    "version": 3
   },
   "file_extension": ".py",
   "mimetype": "text/x-python",
   "name": "python",
   "nbconvert_exporter": "python",
   "pygments_lexer": "ipython3",
   "version": "3.11.0rc2"
  }
 },
 "nbformat": 4,
 "nbformat_minor": 5
}
