{
 "cells": [
  {
   "cell_type": "code",
   "execution_count": 3,
   "id": "1278743b-e7e0-4edf-b957-6cf9628785ed",
   "metadata": {},
   "outputs": [],
   "source": [
    "import numpy as np\n",
    "import pandas as pd"
   ]
  },
  {
   "cell_type": "code",
   "execution_count": 4,
   "id": "fdf0cf10-c69a-48a0-ab8e-708e0232c076",
   "metadata": {},
   "outputs": [],
   "source": [
    "data = pd.read_csv('./first_year_returns_data_normalized.csv')"
   ]
  },
  {
   "cell_type": "code",
   "execution_count": 5,
   "id": "e56cbc2d-c7fd-49bc-a2ef-2bfaf156980b",
   "metadata": {},
   "outputs": [],
   "source": [
    "column_to_drop=['cluster', 'returns_1yr']\n",
    "first_year=data.drop(columns=column_to_drop)"
   ]
  },
  {
   "cell_type": "code",
   "execution_count": 6,
   "id": "9d7d8478-c477-4601-996f-e64678133def",
   "metadata": {},
   "outputs": [
    {
     "name": "stderr",
     "output_type": "stream",
     "text": [
      "C:\\Users\\SOUVIK GHOSH\\AppData\\Local\\Programs\\Python\\Python311\\Lib\\site-packages\\sklearn\\cluster\\_kmeans.py:1416: FutureWarning: The default value of `n_init` will change from 10 to 'auto' in 1.4. Set the value of `n_init` explicitly to suppress the warning\n",
      "  super()._check_params_vs_input(X, default_n_init=10)\n"
     ]
    }
   ],
   "source": [
    "from sklearn.cluster import KMeans\n",
    "from sklearn.metrics import silhouette_score\n",
    "\n",
    "kmeans = KMeans(n_clusters=10)  \n",
    "\n",
    "kmeans.fit(first_year)\n",
    "\n",
    "cluster_labels = kmeans.labels_\n",
    "\n",
    "silhouette_avg = silhouette_score(first_year, cluster_labels)\n",
    "\n",
    "first_year['cluster'] = cluster_labels"
   ]
  },
  {
   "cell_type": "code",
   "execution_count": 7,
   "id": "41afdfbc-53f0-4ee8-9fb3-d69eeca72c71",
   "metadata": {},
   "outputs": [
    {
     "data": {
      "text/html": [
       "<div>\n",
       "<style scoped>\n",
       "    .dataframe tbody tr th:only-of-type {\n",
       "        vertical-align: middle;\n",
       "    }\n",
       "\n",
       "    .dataframe tbody tr th {\n",
       "        vertical-align: top;\n",
       "    }\n",
       "\n",
       "    .dataframe thead th {\n",
       "        text-align: right;\n",
       "    }\n",
       "</style>\n",
       "<table border=\"1\" class=\"dataframe\">\n",
       "  <thead>\n",
       "    <tr style=\"text-align: right;\">\n",
       "      <th></th>\n",
       "      <th>expense_ratio</th>\n",
       "      <th>risk_level</th>\n",
       "      <th>cluster</th>\n",
       "    </tr>\n",
       "  </thead>\n",
       "  <tbody>\n",
       "    <tr>\n",
       "      <th>0</th>\n",
       "      <td>0.083004</td>\n",
       "      <td>0.4</td>\n",
       "      <td>5</td>\n",
       "    </tr>\n",
       "    <tr>\n",
       "      <th>1</th>\n",
       "      <td>0.118577</td>\n",
       "      <td>0.0</td>\n",
       "      <td>7</td>\n",
       "    </tr>\n",
       "    <tr>\n",
       "      <th>2</th>\n",
       "      <td>0.185771</td>\n",
       "      <td>0.8</td>\n",
       "      <td>6</td>\n",
       "    </tr>\n",
       "    <tr>\n",
       "      <th>3</th>\n",
       "      <td>0.217391</td>\n",
       "      <td>1.0</td>\n",
       "      <td>0</td>\n",
       "    </tr>\n",
       "    <tr>\n",
       "      <th>4</th>\n",
       "      <td>0.438735</td>\n",
       "      <td>1.0</td>\n",
       "      <td>8</td>\n",
       "    </tr>\n",
       "    <tr>\n",
       "      <th>...</th>\n",
       "      <td>...</td>\n",
       "      <td>...</td>\n",
       "      <td>...</td>\n",
       "    </tr>\n",
       "    <tr>\n",
       "      <th>620</th>\n",
       "      <td>0.106719</td>\n",
       "      <td>0.2</td>\n",
       "      <td>1</td>\n",
       "    </tr>\n",
       "    <tr>\n",
       "      <th>621</th>\n",
       "      <td>0.150198</td>\n",
       "      <td>0.4</td>\n",
       "      <td>5</td>\n",
       "    </tr>\n",
       "    <tr>\n",
       "      <th>622</th>\n",
       "      <td>0.355731</td>\n",
       "      <td>0.6</td>\n",
       "      <td>9</td>\n",
       "    </tr>\n",
       "    <tr>\n",
       "      <th>623</th>\n",
       "      <td>0.434783</td>\n",
       "      <td>1.0</td>\n",
       "      <td>8</td>\n",
       "    </tr>\n",
       "    <tr>\n",
       "      <th>624</th>\n",
       "      <td>0.063241</td>\n",
       "      <td>0.0</td>\n",
       "      <td>7</td>\n",
       "    </tr>\n",
       "  </tbody>\n",
       "</table>\n",
       "<p>625 rows × 3 columns</p>\n",
       "</div>"
      ],
      "text/plain": [
       "     expense_ratio  risk_level  cluster\n",
       "0         0.083004         0.4        5\n",
       "1         0.118577         0.0        7\n",
       "2         0.185771         0.8        6\n",
       "3         0.217391         1.0        0\n",
       "4         0.438735         1.0        8\n",
       "..             ...         ...      ...\n",
       "620       0.106719         0.2        1\n",
       "621       0.150198         0.4        5\n",
       "622       0.355731         0.6        9\n",
       "623       0.434783         1.0        8\n",
       "624       0.063241         0.0        7\n",
       "\n",
       "[625 rows x 3 columns]"
      ]
     },
     "execution_count": 7,
     "metadata": {},
     "output_type": "execute_result"
    }
   ],
   "source": [
    "first_year"
   ]
  },
  {
   "cell_type": "code",
   "execution_count": 8,
   "id": "e38f68ce-7940-478f-ba16-9c832ee61716",
   "metadata": {},
   "outputs": [],
   "source": [
    "first_year.to_csv('first_year.csv', index=False)"
   ]
  },
  {
   "cell_type": "code",
   "execution_count": 9,
   "id": "5f716108-1cf3-485b-a28d-9ed0d279d440",
   "metadata": {},
   "outputs": [],
   "source": [
    "scheme_codes = pd.read_csv('./scheme_codes.csv')"
   ]
  },
  {
   "cell_type": "code",
   "execution_count": 10,
   "id": "834bc647-c02f-4454-b476-4526ae027e0d",
   "metadata": {},
   "outputs": [],
   "source": [
    "first_year_scheme_codes=pd.merge(first_year, scheme_codes, left_index=True, right_index=True)"
   ]
  },
  {
   "cell_type": "code",
   "execution_count": 11,
   "id": "f8fdd076-b3aa-4b14-bc6f-ef83335d30b6",
   "metadata": {},
   "outputs": [],
   "source": [
    "first_year_scheme_codes.to_csv('test.csv', index=False)"
   ]
  },
  {
   "cell_type": "code",
   "execution_count": 12,
   "id": "16f7fc1a-31f4-4b6d-aed6-cba18effa794",
   "metadata": {},
   "outputs": [],
   "source": [
    "first_year1=first_year_scheme_codes.copy()"
   ]
  },
  {
   "cell_type": "code",
   "execution_count": 13,
   "id": "6569a2d4-2f4e-440f-aa2f-7dbba2e68666",
   "metadata": {},
   "outputs": [
    {
     "data": {
      "text/html": [
       "<div>\n",
       "<style scoped>\n",
       "    .dataframe tbody tr th:only-of-type {\n",
       "        vertical-align: middle;\n",
       "    }\n",
       "\n",
       "    .dataframe tbody tr th {\n",
       "        vertical-align: top;\n",
       "    }\n",
       "\n",
       "    .dataframe thead th {\n",
       "        text-align: right;\n",
       "    }\n",
       "</style>\n",
       "<table border=\"1\" class=\"dataframe\">\n",
       "  <thead>\n",
       "    <tr style=\"text-align: right;\">\n",
       "      <th></th>\n",
       "      <th>expense_ratio</th>\n",
       "      <th>risk_level</th>\n",
       "      <th>cluster</th>\n",
       "      <th>scheme_code</th>\n",
       "    </tr>\n",
       "  </thead>\n",
       "  <tbody>\n",
       "    <tr>\n",
       "      <th>0</th>\n",
       "      <td>0.083004</td>\n",
       "      <td>0.4</td>\n",
       "      <td>5</td>\n",
       "      <td>100033</td>\n",
       "    </tr>\n",
       "    <tr>\n",
       "      <th>1</th>\n",
       "      <td>0.118577</td>\n",
       "      <td>0.0</td>\n",
       "      <td>7</td>\n",
       "      <td>100034</td>\n",
       "    </tr>\n",
       "    <tr>\n",
       "      <th>2</th>\n",
       "      <td>0.185771</td>\n",
       "      <td>0.8</td>\n",
       "      <td>6</td>\n",
       "      <td>100037</td>\n",
       "    </tr>\n",
       "    <tr>\n",
       "      <th>3</th>\n",
       "      <td>0.217391</td>\n",
       "      <td>1.0</td>\n",
       "      <td>0</td>\n",
       "      <td>100038</td>\n",
       "    </tr>\n",
       "    <tr>\n",
       "      <th>4</th>\n",
       "      <td>0.438735</td>\n",
       "      <td>1.0</td>\n",
       "      <td>8</td>\n",
       "      <td>100041</td>\n",
       "    </tr>\n",
       "    <tr>\n",
       "      <th>...</th>\n",
       "      <td>...</td>\n",
       "      <td>...</td>\n",
       "      <td>...</td>\n",
       "      <td>...</td>\n",
       "    </tr>\n",
       "    <tr>\n",
       "      <th>620</th>\n",
       "      <td>0.106719</td>\n",
       "      <td>0.2</td>\n",
       "      <td>1</td>\n",
       "      <td>100800</td>\n",
       "    </tr>\n",
       "    <tr>\n",
       "      <th>621</th>\n",
       "      <td>0.150198</td>\n",
       "      <td>0.4</td>\n",
       "      <td>5</td>\n",
       "      <td>100801</td>\n",
       "    </tr>\n",
       "    <tr>\n",
       "      <th>622</th>\n",
       "      <td>0.355731</td>\n",
       "      <td>0.6</td>\n",
       "      <td>9</td>\n",
       "      <td>100802</td>\n",
       "    </tr>\n",
       "    <tr>\n",
       "      <th>623</th>\n",
       "      <td>0.434783</td>\n",
       "      <td>1.0</td>\n",
       "      <td>8</td>\n",
       "      <td>100803</td>\n",
       "    </tr>\n",
       "    <tr>\n",
       "      <th>624</th>\n",
       "      <td>0.063241</td>\n",
       "      <td>0.0</td>\n",
       "      <td>7</td>\n",
       "      <td>145963</td>\n",
       "    </tr>\n",
       "  </tbody>\n",
       "</table>\n",
       "<p>625 rows × 4 columns</p>\n",
       "</div>"
      ],
      "text/plain": [
       "     expense_ratio  risk_level  cluster  scheme_code\n",
       "0         0.083004         0.4        5       100033\n",
       "1         0.118577         0.0        7       100034\n",
       "2         0.185771         0.8        6       100037\n",
       "3         0.217391         1.0        0       100038\n",
       "4         0.438735         1.0        8       100041\n",
       "..             ...         ...      ...          ...\n",
       "620       0.106719         0.2        1       100800\n",
       "621       0.150198         0.4        5       100801\n",
       "622       0.355731         0.6        9       100802\n",
       "623       0.434783         1.0        8       100803\n",
       "624       0.063241         0.0        7       145963\n",
       "\n",
       "[625 rows x 4 columns]"
      ]
     },
     "execution_count": 13,
     "metadata": {},
     "output_type": "execute_result"
    }
   ],
   "source": [
    "first_year1"
   ]
  },
  {
   "cell_type": "code",
   "execution_count": 14,
   "id": "e7507602-e92a-43b8-846c-e1e920673eda",
   "metadata": {},
   "outputs": [],
   "source": [
    "def get_cluster_number(scheme_code):\n",
    "    cluster_number = first_year_scheme_codes.loc[first_year_scheme_codes['scheme_code'] == scheme_code, 'cluster'].values\n",
    "    if len(cluster_number) > 0:        \n",
    "        return cluster_number[0]\n",
    "    else:\n",
    "        return None"
   ]
  },
  {
   "cell_type": "code",
   "execution_count": 15,
   "id": "0e09d713-1280-4c51-bf8b-6ea6a8521f98",
   "metadata": {},
   "outputs": [
    {
     "name": "stdin",
     "output_type": "stream",
     "text": [
      "Enter scheme code you want to invest, enter -1 if you don't want to:  104483\n",
      "Enter scheme code you want to invest, enter -1 if you don't want to:  -1\n",
      "Enter scheme code you want to invest, enter -1 if you don't want to:  100286\n",
      "Enter scheme code you want to invest, enter -1 if you don't want to:  -1\n"
     ]
    },
    {
     "name": "stdout",
     "output_type": "stream",
     "text": [
      "Recommended cluster after 4 days: 7\n"
     ]
    }
   ],
   "source": [
    "import numpy as np\n",
    "import pandas as pd\n",
    "\n",
    "df = pd.DataFrame()\n",
    "\n",
    "def compute_average_returns():\n",
    "    global df\n",
    "    returns = pd.read_csv('./Predicted_returns.csv')\n",
    "    df = pd.merge(first_year1, returns, left_index=True, right_index=True)\n",
    "    avg_returns_by_cluster = df.groupby('cluster')['returns_1yr'].sum() / df.groupby('cluster')['returns_1yr'].count()\n",
    "    avg_returns = avg_returns_by_cluster.reset_index()\n",
    "    avg_returns.columns = ['cluster_no', 'avg']\n",
    "    return avg_returns\n",
    "\n",
    "class MutualFundClusterRecommendation:\n",
    "    def __init__(self, avg_returns):\n",
    "        self.avg_returns = avg_returns\n",
    "        self.num_clusters = len(avg_returns)\n",
    "        self.cluster_rewards = np.zeros(self.num_clusters)\n",
    "        self.cluster_counts = np.zeros(self.num_clusters)\n",
    "        self.cumulative_rewards = np.zeros(self.num_clusters)\n",
    "    \n",
    "    def update_rewards(self, cluster_idx, reward, invest_in_cluster=False):\n",
    "        if invest_in_cluster:\n",
    "            self.cluster_rewards[cluster_idx] += reward * 2  # Double reward if user invests in the cluster\n",
    "        else:\n",
    "            self.cluster_rewards[cluster_idx] += reward\n",
    "    \n",
    "    def choose_best_cluster(self):\n",
    "        return np.argmax(self.avg_returns['avg'])\n",
    "        \n",
    "    def update_cumulative_rewards(self):\n",
    "        self.cumulative_rewards += self.cluster_rewards\n",
    "    \n",
    "    def recommend_best_cluster(self):\n",
    "        best_cluster = np.argmax(self.cumulative_rewards)\n",
    "        return best_cluster\n",
    "\n",
    "# Sample DataFrame for demonstration\n",
    "\n",
    "avg_returns = compute_average_returns()\n",
    "recommendation_system = MutualFundClusterRecommendation(avg_returns)\n",
    "\n",
    "# Simulating 10 days\n",
    "for day in range(4):\n",
    "    \n",
    "    # For demonstration, let's assume the user invests in the second cluster every day\n",
    "    scheme_code = int(input(\"Enter scheme code you want to invest, enter -1 if you don't want to: \"))\n",
    "    if scheme_code != -1:\n",
    "        cluster_number = get_cluster_number(scheme_code)\n",
    "        recommendation_system.update_rewards(cluster_number, 1, invest_in_cluster=True)\n",
    "    else:\n",
    "        best_cluster = recommendation_system.choose_best_cluster()\n",
    "        recommendation_system.update_rewards(best_cluster, 1)\n",
    "    \n",
    "    # Updating cumulative rewards\n",
    "    recommendation_system.update_cumulative_rewards()\n",
    "\n",
    "# Recommending the best cluster after 4 days\n",
    "best_cluster_recommendation = recommendation_system.recommend_best_cluster()\n",
    "print(\"Recommended cluster after 4 days:\", best_cluster_recommendation)"
   ]
  },
  {
   "cell_type": "code",
   "execution_count": 17,
   "id": "06433e08-98fb-490f-8a3b-e0753102c191",
   "metadata": {},
   "outputs": [],
   "source": [
    "df.to_csv('df.csv', index=False)"
   ]
  },
  {
   "cell_type": "code",
   "execution_count": 18,
   "id": "b0017f5a-44f2-4469-8bd0-f38c3b9fab35",
   "metadata": {},
   "outputs": [
    {
     "name": "stdout",
     "output_type": "stream",
     "text": [
      "[104483, 109935, 100638, 100286, 100034]\n"
     ]
    }
   ],
   "source": [
    "# Assuming you have a DataFrame named df with columns 'cluster', 'returns_1yr', and 'scheme_code'\n",
    "\n",
    "def get_top_scheme_codes(df, cluster):\n",
    "    # Filter the DataFrame for the given cluster\n",
    "    cluster_df = df[df['cluster'] == cluster]\n",
    "    \n",
    "    # Sort the DataFrame by returns_1yr in descending order\n",
    "    sorted_cluster_df = cluster_df.sort_values(by='returns_1yr', ascending=False)\n",
    "    \n",
    "    # Get the top 5 scheme_codes\n",
    "    top_5_scheme_codes = sorted_cluster_df.head(5)['scheme_code'].tolist()\n",
    "    \n",
    "    return top_5_scheme_codes\n",
    "\n",
    "# Example usage:\n",
    "cluster = best_cluster_recommendation\n",
    "top_scheme_codes = get_top_scheme_codes(df, cluster)\n",
    "print(top_scheme_codes)"
   ]
  },
  {
   "cell_type": "code",
   "execution_count": null,
   "id": "802098d4-02e9-44f4-83d8-fb73144038cf",
   "metadata": {},
   "outputs": [],
   "source": []
  }
 ],
 "metadata": {
  "kernelspec": {
   "display_name": "Python 3 (ipykernel)",
   "language": "python",
   "name": "python3"
  },
  "language_info": {
   "codemirror_mode": {
    "name": "ipython",
    "version": 3
   },
   "file_extension": ".py",
   "mimetype": "text/x-python",
   "name": "python",
   "nbconvert_exporter": "python",
   "pygments_lexer": "ipython3",
   "version": "3.11.0rc2"
  }
 },
 "nbformat": 4,
 "nbformat_minor": 5
}
